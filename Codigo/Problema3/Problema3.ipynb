{
 "cells": [
  {
   "cell_type": "markdown",
   "metadata": {},
   "source": [
    "<h1>3. Skill Prediction en LinkedIN"
   ]
  },
  {
   "cell_type": "markdown",
   "metadata": {},
   "source": [
    "**3.0 Importacines necesarias**"
   ]
  },
  {
   "cell_type": "markdown",
   "metadata": {},
   "source": [
    "Se importan librerías y métodos necesarios para el correcto funcionamiento de las activades a desarrollar dentro de ésta sección."
   ]
  },
  {
   "cell_type": "code",
   "execution_count": 27,
   "metadata": {
    "collapsed": false
   },
   "outputs": [],
   "source": [
    "#!usr/bin/env python\n",
    "# -*- coding: utf-8 -*-\n",
    "from scipy.sparse import csr_matrix\n",
    "import re\n",
    "import numpy as np\n",
    "from sklearn.lda import LDA\n",
    "from sklearn.qda import QDA"
   ]
  },
  {
   "cell_type": "markdown",
   "metadata": {},
   "source": [
    "**3.1 Construcción de dataset**"
   ]
  },
  {
   "cell_type": "markdown",
   "metadata": {},
   "source": [
    "Primeramente, se crea la función *generar_Z*, la cual, a partir de los archivos *user_skill* y *skill_id*, construye una matriz dispersa con los datos provistos en dicho archivo. Tal matriz será denotada de aquí en adelante como Z."
   ]
  },
  {
   "cell_type": "code",
   "execution_count": 3,
   "metadata": {
    "collapsed": false
   },
   "outputs": [],
   "source": [
    "#Se define funcion para construir matriz Z\n",
    "def generar_Z(arch1, arch2):\n",
    "    #Variables que contienen la cantidad de perfiles y de competencias, respectivamente\n",
    "    n_perfiles = 0\n",
    "    n_competencias = 0\n",
    "    \n",
    "    #Se determina la cantidad de perfiles\n",
    "    with open(arch1) as perfiles:\n",
    "        n_perfiles = sum(1 for _ in perfiles)\n",
    "    \n",
    "    #Se determina la cantidad de competencias\n",
    "    with open(arch2) as competencias:\n",
    "        n_competencias = sum(1 for _ in competencias)\n",
    "        \n",
    "    #Se crea fisicamente la matriz Z\n",
    "    Z = csr_matrix((n_perfiles, n_competencias), dtype=np.int8).toarray()\n",
    "    \n",
    "    #Se procede a 'trasladar' los valores de los archivos a Z\n",
    "    with open(arch1) as perfiles:\n",
    "        for line in perfiles:\n",
    "            datos = re.split(':|,|\\n', line)\n",
    "            n_perfil = int(datos[0])\n",
    "            for n_competencia in datos[1:-1]:\n",
    "                Z[n_perfil][int(n_competencia)] = 1\n",
    "    \n",
    "    return Z"
   ]
  },
  {
   "cell_type": "markdown",
   "metadata": {},
   "source": [
    "Luego, se procede a construir la matriz Z con que se trabajará de ahora en adelante."
   ]
  },
  {
   "cell_type": "code",
   "execution_count": 4,
   "metadata": {
    "collapsed": true
   },
   "outputs": [],
   "source": [
    "Z = generar_Z('user_skill', 'skill_id')"
   ]
  },
  {
   "cell_type": "markdown",
   "metadata": {},
   "source": [
    "A partir del resultado anterior, se puede obtener la cantidad de perfiles y de competencias que integran los dataset."
   ]
  },
  {
   "cell_type": "code",
   "execution_count": 5,
   "metadata": {
    "collapsed": false
   },
   "outputs": [
    {
     "name": "stdout",
     "output_type": "stream",
     "text": [
      "Se cuenta con un dataset compuesto por 7890 perfiles y 14544 competencias.\n"
     ]
    }
   ],
   "source": [
    "print 'Se cuenta con un dataset compuesto por', Z.shape[0], 'perfiles y', Z.shape[1], 'competencias.'"
   ]
  },
  {
   "cell_type": "markdown",
   "metadata": {},
   "source": [
    "**3.2 Construcción de set de entrenamiento y set de pruebas**"
   ]
  },
  {
   "cell_type": "markdown",
   "metadata": {},
   "source": [
    "A partir de la matriz Z generada en la sección anterior, se procede a construir los conjuntos de entrenamiento y de prueba. Para ello, se seleccionan registros desde Z en forma azarosa de tal forma que el conjunto de entrenamiento estará compuesto por el 60% de los registros del dataset original, mientras que el conjunto de prueba estará integrando por el 40% de los registros de dicho dataset. Considerando que Z acumula 7890 perfiles, el conjunto de entrenamiento tendrá 4734 registros y el de prueba, 3156 registros.\n",
    "\n",
    "Para realizar la tarea descrita, se sigue el procedimiento presentado a continuación:"
   ]
  },
  {
   "cell_type": "code",
   "execution_count": 6,
   "metadata": {
    "collapsed": false
   },
   "outputs": [],
   "source": [
    "#Se permutan aleatoriamente las filas de la matriz Z\n",
    "np.random.shuffle(Z)\n",
    "\n",
    "#Se construyen conjunto de entrenamiento y de prueba, respectivamente\n",
    "Z_tr = Z[0:int(0.6*Z.shape[0])]\n",
    "Z_ts = Z[int(0.6*Z.shape[0]):]"
   ]
  },
  {
   "cell_type": "markdown",
   "metadata": {},
   "source": [
    "**3.3 Cantidad de perfiles por competencia**"
   ]
  },
  {
   "cell_type": "markdown",
   "metadata": {},
   "source": [
    "En ésta sección, se desea construir un gráfico en el que sea posible apreciar la cantidad de perfiles que declaran una determinada competencia. Para esto, se lleva a cabo el siguiente procedimiento:"
   ]
  },
  {
   "cell_type": "code",
   "execution_count": 8,
   "metadata": {
    "collapsed": false
   },
   "outputs": [
    {
     "name": "stdout",
     "output_type": "stream",
     "text": [
      "A continuación, se muestra un ranking con las 10 competencias más frecuentes, acompañadas por la cantidad de perfiles en que es declarada. Se muestran en el formato ranking. Competencia (id_competencia) : frecuencia. Es importante considerar que sólo se han tomado en \n",
      "cuenta aquellas competencias cuyo nombre es no nulo.\n",
      "\n",
      "1 . Microsoft Office ( 29 ) : 3081\n",
      "2 . Liderazgo de equipos ( 32 ) : 2761\n",
      "3 . Gestión de proyectos ( 43 ) : 2204\n",
      "4 . Microsoft Excel ( 71 ) : 2191\n",
      "5 . Team Leadership ( 1 ) : 2109\n",
      "6 . Estrategia empresarial ( 47 ) : 1868\n",
      "7 . SQL ( 55 ) : 1782\n",
      "8 . Planificación estratégica ( 45 ) : 1717\n",
      "9 . Inteligencia empresarial ( 49 ) : 1673\n",
      "10 . Inglés ( 33 ) : 1647\n"
     ]
    }
   ],
   "source": [
    "#Se obtiene el nombre, identificador y cantidad de perfiles asociado a cada competencia, y se \n",
    "#almacenan en una lista de tuplas\n",
    "\n",
    "lista_competencias = []\n",
    "with open('skill_id') as competencias:\n",
    "    for line in competencias:\n",
    "        dato = re.split(' :|:|\\n', line)\n",
    "        dato = dato[0:-1]\n",
    "        \n",
    "        if (len(dato) > 2):\n",
    "            nombre_competencia = ''\n",
    "            for token in dato[0:-1]:\n",
    "                nombre_competencia += token\n",
    "            id_competencia = int(dato[-1])\n",
    "            cantidad_perfiles = sum(Z[:, id_competencia])\n",
    "            lista_competencias.append((nombre_competencia, id_competencia, cantidad_perfiles))\n",
    "            \n",
    "        else:\n",
    "            if (dato[0] != ''):\n",
    "                nombre_competencia = dato[0]\n",
    "                id_competencia = int(dato[1])\n",
    "                cantidad_perfiles = sum(Z[:, id_competencia])\n",
    "                lista_competencias.append((nombre_competencia, id_competencia, cantidad_perfiles))\n",
    "            \n",
    "#Finalizado el proceso anterior, se ordena la lista competencias por su frecuencia\n",
    "lista_competencias.sort(key=lambda tup: tup[2], reverse=True)\n",
    "\n",
    "#A continuacion, se muestra un ranking con las 10 competencias mas frecuentes\n",
    "print('A continuación, se muestra un ranking con las 10 competencias más frecuentes (con su id entre paréntesis), acompañadas por la cantidad de perfiles en que es declarada. Es importante considerar que sólo se han tomado en \\ncuenta aquellas competencias cuyo nombre es no nulo.\\n')\n",
    "contador = 0\n",
    "for comp in lista_competencias:\n",
    "    print contador+1,'.', comp[0], '(', comp[1],')',':', comp[2]\n",
    "    contador += 1\n",
    "    if (contador > 9):\n",
    "        break"
   ]
  },
  {
   "cell_type": "markdown",
   "metadata": {},
   "source": [
    "**3.4 Predicción de la competencia *Microsoft Office***"
   ]
  },
  {
   "cell_type": "markdown",
   "metadata": {},
   "source": [
    "**3.4.1 Ajuste de conjuntos de entrenamiento y prueba**"
   ]
  },
  {
   "cell_type": "markdown",
   "metadata": {},
   "source": [
    "Se desea predecir la existencia de la competencia *Microsoft Office* en un perfil determinado, en base a las competencias restantes que el usuario declaró. Se ha seleccionado dicha competencia debido a su alta frecuencia de aparición. Para el posterior entrenamiento/ajuste de clasificadores, se ajustan los sets de entrenamiento y de prueba construídos previamente para así poder abordar este problema. Se procede de la siguiente manera:"
   ]
  },
  {
   "cell_type": "code",
   "execution_count": 21,
   "metadata": {
    "collapsed": true
   },
   "outputs": [],
   "source": [
    "#Para el set de entrenamiento, se construyen las matrices X_tr e y_tr a partir de Z_tr\n",
    "#Recordar que Microsoft Office corresponde a la competencia numero 29\n",
    "y_tr = Z_tr[:, 29]\n",
    "X_tr = np.delete(Z_tr, 29, 1)\n",
    "\n",
    "#Se procede de forma analoga con el conjunto de entrenamiento, construyendo X_ts e y_ts\n",
    "#a partir de Z_ts\n",
    "y_ts = Z_ts[:, 29]\n",
    "X_ts = np.delete(Z_ts, 29, 1)"
   ]
  },
  {
   "cell_type": "markdown",
   "metadata": {},
   "source": [
    "**3.4.2 Entrenamiento/ajuste de clasificador LDA**"
   ]
  },
  {
   "cell_type": "code",
   "execution_count": null,
   "metadata": {
    "collapsed": true
   },
   "outputs": [],
   "source": [
    "lda_model = LDA()\n",
    "lda_model.fit(X_tr, y_tr)\n",
    "score_tr = lda_model.score(X_tr, y_tr)\n",
    "score_ts = lda.model.score(X_ts, y_ts)"
   ]
  },
  {
   "cell_type": "code",
   "execution_count": null,
   "metadata": {
    "collapsed": true
   },
   "outputs": [],
   "source": []
  }
 ],
 "metadata": {
  "kernelspec": {
   "display_name": "Python 2",
   "language": "python",
   "name": "python2"
  },
  "language_info": {
   "codemirror_mode": {
    "name": "ipython",
    "version": 2
   },
   "file_extension": ".py",
   "mimetype": "text/x-python",
   "name": "python",
   "nbconvert_exporter": "python",
   "pygments_lexer": "ipython2",
   "version": "2.7.10"
  }
 },
 "nbformat": 4,
 "nbformat_minor": 1
}
