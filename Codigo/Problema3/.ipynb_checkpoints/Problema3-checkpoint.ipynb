{
 "cells": [
  {
   "cell_type": "markdown",
   "metadata": {},
   "source": [
    "<h1>3. Skill Prediction en LinkedIN"
   ]
  },
  {
   "cell_type": "markdown",
   "metadata": {},
   "source": [
    "**3.0 Importaciones necesarias**"
   ]
  },
  {
   "cell_type": "markdown",
   "metadata": {},
   "source": [
    "Se importan librerías y métodos necesarios para el correcto funcionamiento de las activades a desarrollar dentro de ésta sección."
   ]
  },
  {
   "cell_type": "code",
   "execution_count": 1,
   "metadata": {
    "collapsed": false
   },
   "outputs": [],
   "source": [
    "#!usr/bin/env python\n",
    "# -*- coding: utf-8 -*-\n",
    "from scipy.sparse import csr_matrix\n",
    "import re\n",
    "import numpy as np\n",
    "from sklearn.utils import shuffle\n",
    "import matplotlib.pyplot as plt\n",
    "from sklearn.utils import column_or_1d\n",
    "from clasificadores import *"
   ]
  },
  {
   "cell_type": "markdown",
   "metadata": {},
   "source": [
    "**3.1 Construcción de dataset**"
   ]
  },
  {
   "cell_type": "markdown",
   "metadata": {},
   "source": [
    "Primeramente, se crea la función *generar_Z*, la cual, a partir de los archivos *user_skill* y *skill_id*, construye una matriz dispersa con los datos provistos en dicho archivo. Tal matriz será denotada de aquí en adelante como Z."
   ]
  },
  {
   "cell_type": "code",
   "execution_count": 2,
   "metadata": {
    "collapsed": false
   },
   "outputs": [],
   "source": [
    "#Se define funcion para construir matriz Z\n",
    "def generar_Z(arch1, arch2):\n",
    "    #Variables que contienen la cantidad de perfiles y de competencias, respectivamente\n",
    "    n_perfiles = 0\n",
    "    n_competencias = 0\n",
    "    \n",
    "    #Se determina la cantidad de perfiles\n",
    "    with open(arch1) as perfiles:\n",
    "        n_perfiles = sum(1 for _ in perfiles)\n",
    "    \n",
    "    #Se determina la cantidad de competencias\n",
    "    with open(arch2) as competencias:\n",
    "        n_competencias = sum(1 for _ in competencias)\n",
    "        \n",
    "    #Se crea fisicamente la matriz Z\n",
    "    Z = np.zeros(shape=(n_perfiles, n_competencias), dtype=np.int)\n",
    "    \n",
    "    #Se procede a 'trasladar' los valores de los archivos a Z\n",
    "    with open(arch1) as perfiles:\n",
    "        for line in perfiles:\n",
    "            datos = re.split(':|,|\\n', line)\n",
    "            n_perfil = int(datos[0])\n",
    "            for n_competencia in datos[1:-1]:\n",
    "                Z[n_perfil, int(n_competencia)] = 1\n",
    "    \n",
    "    Z = csr_matrix(Z)\n",
    "    return Z"
   ]
  },
  {
   "cell_type": "markdown",
   "metadata": {},
   "source": [
    "Luego, se procede a construir la matriz Z con que se trabajará de ahora en adelante."
   ]
  },
  {
   "cell_type": "code",
   "execution_count": 3,
   "metadata": {
    "collapsed": false,
    "scrolled": true
   },
   "outputs": [],
   "source": [
    "Z = generar_Z('user_skill', 'skill_id')"
   ]
  },
  {
   "cell_type": "markdown",
   "metadata": {},
   "source": [
    "A partir del resultado anterior, se puede obtener la cantidad de perfiles y de competencias que integran los dataset."
   ]
  },
  {
   "cell_type": "code",
   "execution_count": 4,
   "metadata": {
    "collapsed": false
   },
   "outputs": [
    {
     "name": "stdout",
     "output_type": "stream",
     "text": [
      "Se cuenta con un dataset compuesto por 7890 perfiles y 14544 competencias.\n"
     ]
    }
   ],
   "source": [
    "print 'Se cuenta con un dataset compuesto por', Z.shape[0], 'perfiles y', Z.shape[1], 'competencias.'"
   ]
  },
  {
   "cell_type": "markdown",
   "metadata": {},
   "source": [
    "**3.2 Construcción de set de entrenamiento y set de pruebas**"
   ]
  },
  {
   "cell_type": "markdown",
   "metadata": {},
   "source": [
    "A partir de la matriz Z generada en la sección anterior, se procede a construir los conjuntos de entrenamiento y de prueba. Para ello, se seleccionan registros desde Z en forma azarosa de tal forma que el conjunto de entrenamiento estará compuesto por el 60% de los registros del dataset original, mientras que el conjunto de prueba estará integrando por el 40% de los registros de dicho dataset. Considerando que Z acumula 7890 perfiles, el conjunto de entrenamiento tendrá 4734 registros y el de prueba, 3156 registros.\n",
    "\n",
    "Para realizar la tarea descrita, se sigue el procedimiento presentado a continuación:"
   ]
  },
  {
   "cell_type": "code",
   "execution_count": 5,
   "metadata": {
    "collapsed": false
   },
   "outputs": [],
   "source": [
    "#Se permutan aleatoriamente las filas de la matriz Z\n",
    "Z = shuffle(Z, random_state=0)\n",
    "\n",
    "#Se construyen conjunto de entrenamiento y de prueba, respectivamente\n",
    "Z_tr = Z[0:int(0.6*Z.shape[0])]\n",
    "Z_ts = Z[int(0.6*Z.shape[0]):]"
   ]
  },
  {
   "cell_type": "markdown",
   "metadata": {},
   "source": [
    "**3.3 Cantidad de perfiles por competencia**"
   ]
  },
  {
   "cell_type": "markdown",
   "metadata": {},
   "source": [
    "En ésta sección, se desea construir un gráfico en el que sea posible apreciar la cantidad de perfiles que declaran una determinada competencia. Para esto, se lleva a cabo el siguiente procedimiento. Notar que se han ignorado aquellas competencias cuyo nombre es desconocido, pues no están entregando información relevante acerca del problema a un lector externo.    "
   ]
  },
  {
   "cell_type": "code",
   "execution_count": 6,
   "metadata": {
    "collapsed": false
   },
   "outputs": [],
   "source": [
    "#NOTA: La siguiente pieza de codigo demora alrededor de 20 segundos en ejecutarse\n",
    "\n",
    "#Se obtiene el nombre, identificador y cantidad de perfiles asociado a cada competencia, y se \n",
    "#almacenan en una lista de tuplas\n",
    "\n",
    "lista_competencias = []\n",
    "with open('skill_id') as competencias:\n",
    "    for line in competencias:\n",
    "        dato = re.split(' :|:|\\n', line)\n",
    "        dato = dato[0:-1]\n",
    "        \n",
    "        if (len(dato) > 2):\n",
    "            nombre_competencia = ''\n",
    "            for token in dato[0:-1]:\n",
    "                nombre_competencia += token\n",
    "            id_competencia = int(dato[-1])\n",
    "            cantidad_perfiles = Z[:, id_competencia].sum()\n",
    "            lista_competencias.append((nombre_competencia + '(' + str(id_competencia) + ')', cantidad_perfiles))\n",
    "            \n",
    "        else:\n",
    "            if (dato[0] != ''):\n",
    "                nombre_competencia = dato[0]\n",
    "                id_competencia = int(dato[1])\n",
    "                cantidad_perfiles = Z[:, id_competencia].sum()\n",
    "                lista_competencias.append((nombre_competencia + '(' + str(id_competencia) + ')', cantidad_perfiles))\n",
    "            \n",
    "#Finalizado el proceso anterior, se ordena la lista competencias por su frecuencia\n",
    "lista_competencias.sort(key=lambda tup: tup[1], reverse=True)\n",
    "\n",
    "#Finalmente, se elabora gráfico que muestra las 10 competencias mas frecuentes, junto con su\n",
    "#respectiva frecuencia\n",
    "top_competencias = lista_competencias[0:10]\n",
    "labels = zip(*top_competencias)[0]\n",
    "labels = [unicode(label, \"utf-8\") for label in labels][::-1]\n",
    "frecuencias = zip(*top_competencias)[1]\n",
    "frecuencias = [frecuencia for frecuencia in frecuencias][::-1]\n",
    "x_pos = np.arange(len(frecuencias))\n",
    "plt.barh(x_pos, frecuencias,align='center', height=0.1)\n",
    "plt.yticks(x_pos, labels)\n",
    "plt.title('Cantidad de perfiles que declaran una competencia')\n",
    "plt.xlabel(u'Número de perfiles')\n",
    "plt.ylabel('Competencia(id)')\n",
    "plt.tight_layout()\n",
    "plt.show()"
   ]
  },
  {
   "cell_type": "markdown",
   "metadata": {},
   "source": [
    "**3.4 Predicción de la competencia *Microsoft Office***"
   ]
  },
  {
   "cell_type": "markdown",
   "metadata": {},
   "source": [
    "**3.4.1 Ajuste de conjuntos de entrenamiento y prueba**"
   ]
  },
  {
   "cell_type": "markdown",
   "metadata": {},
   "source": [
    "Se desea predecir la existencia de la competencia *Microsoft Office* en un perfil determinado, en base a las competencias restantes que el usuario declaró. Se ha seleccionado dicha competencia debido a su alta frecuencia de aparición en los perfiles. Para el posterior entrenamiento de clasificadores, se ajustan los sets de entrenamiento y de prueba construídos previamente para así poder abordar este problema. Notar que para evaluar el rendimiento de cada clasificador, se usarán las funciones previamente creadas para abordar el problema 2 junto la función *KNN*, que permite entrenar un modelo Vecinos Más Cercanos. Además, se usa la siguiente notación:\n",
    "\n",
    "clase 1: Implica que la competencia *Microsoft Office* efectivamente es declarada en el perfil actual.  \n",
    "clase 0: Caso contrario.\n",
    "\n",
    "Se procede de la siguiente manera:"
   ]
  },
  {
   "cell_type": "code",
   "execution_count": 44,
   "metadata": {
    "collapsed": false
   },
   "outputs": [],
   "source": [
    "#Para el set de entrenamiento, se construyen las matrices X_tr e y_tr a partir de Z_tr\n",
    "#Recordar que Microsoft Office corresponde a la competencia numero 29\n",
    "y_tr = column_or_1d(Z_tr[:, 29].toarray())\n",
    "X_tr = csr_matrix(np.delete(Z_tr.toarray(), 29, 1))\n",
    "\n",
    "#Se procede de forma analoga con el conjunto de entrenamiento, construyendo X_ts e y_ts\n",
    "#a partir de Z_ts\n",
    "y_ts = column_or_1d(Z_ts[:, 29].toarray())\n",
    "X_ts = csr_matrix(np.delete(Z_ts.toarray(), 29, 1))"
   ]
  },
  {
   "cell_type": "markdown",
   "metadata": {},
   "source": [
    "**3.4.2 Entrenamiento/ajuste de clasificador Bayesiano Ingenuo Binario**"
   ]
  },
  {
   "cell_type": "markdown",
   "metadata": {},
   "source": [
    "En base a los conjuntos de datos elaborados en la sección anterior, se procede a entrenar/ajustar un clasificador Bayesiano Binario. Posterior a ello, se aplica el modelo generado sobre los datos de entrenamiento y de prueba con el fin de determinar su precisión sobre estos conjuntos."
   ]
  },
  {
   "cell_type": "code",
   "execution_count": 43,
   "metadata": {
    "collapsed": false
   },
   "outputs": [
    {
     "name": "stdout",
     "output_type": "stream",
     "text": [
      "Precisión datos de entrenamiento BernoulliNB: 0.849599\n",
      "Precisión datos de prueba BernoulliNB: 0.794360\n",
      "Análisis detallado de resultados sobre set de prueba:\n",
      "             precision    recall  f1-score   support\n",
      "\n",
      "    clase 1       0.81      0.87      0.84      1914\n",
      "    clase 0       0.77      0.68      0.72      1242\n",
      "\n",
      "avg / total       0.79      0.79      0.79      3156\n",
      "\n"
     ]
    },
    {
     "data": {
      "text/plain": [
       "BernoulliNB(alpha=1.0, binarize=0.0, class_prior=None, fit_prior=True)"
      ]
     },
     "execution_count": 43,
     "metadata": {},
     "output_type": "execute_result"
    }
   ],
   "source": [
    "NAIVE_BAYES(X_tr, y_tr, X_ts, y_ts)"
   ]
  },
  {
   "cell_type": "markdown",
   "metadata": {},
   "source": [
    "**3.4.3 Entrenamiento/ajuste de clasificador Bayesiano Ingenuo Multinomial**"
   ]
  },
  {
   "cell_type": "markdown",
   "metadata": {},
   "source": [
    "Se ejecuta el mismo procedimiento de la sección previa, pero considerando un clasificador Bayesiano Ingenuo Multinomial."
   ]
  },
  {
   "cell_type": "code",
   "execution_count": 9,
   "metadata": {
    "collapsed": false
   },
   "outputs": [
    {
     "name": "stdout",
     "output_type": "stream",
     "text": [
      "Precisión datos de entrenamiento MULTINOMIAL: 0.847909\n",
      "Precisión datos de prueba MULTINOMIAL: 0.786122\n",
      "Análisis detallado de resultados sobre set de prueba:\n",
      "             precision    recall  f1-score   support\n",
      "\n",
      "    clase 1       0.83      0.81      0.82      1914\n",
      "    clase 0       0.72      0.75      0.73      1242\n",
      "\n",
      "avg / total       0.79      0.79      0.79      3156\n",
      "\n"
     ]
    },
    {
     "data": {
      "text/plain": [
       "MultinomialNB(alpha=1.0, class_prior=None, fit_prior=True)"
      ]
     },
     "execution_count": 9,
     "metadata": {},
     "output_type": "execute_result"
    }
   ],
   "source": [
    "MULTINOMIAL(X_tr, y_tr, X_ts, y_ts)"
   ]
  },
  {
   "cell_type": "markdown",
   "metadata": {
    "collapsed": true
   },
   "source": [
    "**3.4.4 Entrenamiento/ajuste de modelo de Regresión Logística Regularizado** "
   ]
  },
  {
   "cell_type": "markdown",
   "metadata": {},
   "source": [
    "Se procede de manera análoga a las dos secciones anteriores, entrenando un clasificador de regresión logística bajo el efecto de variados parámeteros de regularización C."
   ]
  },
  {
   "cell_type": "code",
   "execution_count": null,
   "metadata": {
    "collapsed": false,
    "scrolled": true
   },
   "outputs": [
    {
     "name": "stdout",
     "output_type": "stream",
     "text": [
      "Usando C= 0.010000\n",
      "Precisión datos de entrenamiento LOGISTIC: 0.843684\n",
      "Precisión datos de prueba LOGISTIC: 0.829848\n",
      "Análisis detallado de resultados sobre set de prueba:\n",
      "             precision    recall  f1-score   support\n",
      "\n",
      "    clase 1       0.83      0.91      0.87      1914\n",
      "    clase 0       0.84      0.70      0.76      1242\n",
      "\n",
      "avg / total       0.83      0.83      0.83      3156\n",
      "\n",
      "Usando C= 0.100000\n",
      "Precisión datos de entrenamiento LOGISTIC: 0.880228\n",
      "Precisión datos de prueba LOGISTIC: 0.826679\n",
      "Análisis detallado de resultados sobre set de prueba:\n",
      "             precision    recall  f1-score   support\n",
      "\n",
      "    clase 1       0.83      0.90      0.86      1914\n",
      "    clase 0       0.82      0.72      0.77      1242\n",
      "\n",
      "avg / total       0.83      0.83      0.82      3156\n",
      "\n",
      "Usando C= 10.000000\n",
      "Precisión datos de entrenamiento LOGISTIC: 0.984157\n",
      "Precisión datos de prueba LOGISTIC: 0.791191\n",
      "Análisis detallado de resultados sobre set de prueba:\n",
      "             precision    recall  f1-score   support\n",
      "\n",
      "    clase 1       0.81      0.85      0.83      1914\n",
      "    clase 0       0.75      0.70      0.73      1242\n",
      "\n",
      "avg / total       0.79      0.79      0.79      3156\n",
      "\n",
      "Usando C= 100.000000\n",
      "Precisión datos de entrenamiento LOGISTIC: 0.990706\n",
      "Precisión datos de prueba LOGISTIC: 0.772497\n",
      "Análisis detallado de resultados sobre set de prueba:\n",
      "             precision    recall  f1-score   support\n",
      "\n",
      "    clase 1       0.80      0.83      0.82      1914\n",
      "    clase 0       0.72      0.69      0.70      1242\n",
      "\n",
      "avg / total       0.77      0.77      0.77      3156\n",
      "\n",
      "Usando C= 1000.000000\n",
      "Precisión datos de entrenamiento LOGISTIC: 0.993663\n",
      "Precisión datos de prueba LOGISTIC: 0.744297\n",
      "Análisis detallado de resultados sobre set de prueba:\n",
      "             precision    recall  f1-score   support\n",
      "\n",
      "    clase 1       0.79      0.79      0.79      1914\n",
      "    clase 0       0.68      0.67      0.67      1242\n",
      "\n",
      "avg / total       0.74      0.74      0.74      3156\n",
      "\n"
     ]
    }
   ],
   "source": [
    "LOGIT(X_tr,y_tr,X_ts,y_ts, 0)"
   ]
  },
  {
   "cell_type": "markdown",
   "metadata": {},
   "source": [
    "**3.4.5 Entrenamiento/ajuste de una SVM Lineal**"
   ]
  },
  {
   "cell_type": "markdown",
   "metadata": {},
   "source": [
    "Se entrena una SVM lineal bajo el efecto de variados parámetros de regularización C."
   ]
  },
  {
   "cell_type": "code",
   "execution_count": 11,
   "metadata": {
    "collapsed": false,
    "scrolled": true
   },
   "outputs": [
    {
     "name": "stdout",
     "output_type": "stream",
     "text": [
      "El valor de C que se esta probando: 0.010000\n",
      "Precisión datos de entrenamiento SVM: 0.838192\n",
      "Precisión datos de prueba SVM: 0.823194\n",
      "Análisis detallado de resultados sobre set de prueba:\n",
      "             precision    recall  f1-score   support\n",
      "\n",
      "    clase 1       0.81      0.93      0.86      1914\n",
      "    clase 0       0.86      0.66      0.75      1242\n",
      "\n",
      "avg / total       0.83      0.82      0.82      3156\n",
      "\n",
      "El valor de C que se esta probando: 0.100000\n",
      "Precisión datos de entrenamiento SVM: 0.911914\n",
      "Precisión datos de prueba SVM: 0.814005\n",
      "Análisis detallado de resultados sobre set de prueba:\n",
      "             precision    recall  f1-score   support\n",
      "\n",
      "    clase 1       0.82      0.89      0.85      1914\n",
      "    clase 0       0.80      0.70      0.75      1242\n",
      "\n",
      "avg / total       0.81      0.81      0.81      3156\n",
      "\n",
      "El valor de C que se esta probando: 10.000000\n",
      "Precisión datos de entrenamiento SVM: 0.989227\n",
      "Precisión datos de prueba SVM: 0.768378\n",
      "Análisis detallado de resultados sobre set de prueba:\n",
      "             precision    recall  f1-score   support\n",
      "\n",
      "    clase 1       0.80      0.82      0.81      1914\n",
      "    clase 0       0.72      0.68      0.70      1242\n",
      "\n",
      "avg / total       0.77      0.77      0.77      3156\n",
      "\n",
      "El valor de C que se esta probando: 100.000000\n",
      "Precisión datos de entrenamiento SVM: 0.993452\n",
      "Precisión datos de prueba SVM: 0.748416\n",
      "Análisis detallado de resultados sobre set de prueba:\n",
      "             precision    recall  f1-score   support\n",
      "\n",
      "    clase 1       0.79      0.80      0.79      1914\n",
      "    clase 0       0.68      0.67      0.68      1242\n",
      "\n",
      "avg / total       0.75      0.75      0.75      3156\n",
      "\n",
      "El valor de C que se esta probando: 1000.000000\n",
      "Precisión datos de entrenamiento SVM: 0.996620\n",
      "Precisión datos de prueba SVM: 0.718948\n",
      "Análisis detallado de resultados sobre set de prueba:\n",
      "             precision    recall  f1-score   support\n",
      "\n",
      "    clase 1       0.77      0.77      0.77      1914\n",
      "    clase 0       0.65      0.63      0.64      1242\n",
      "\n",
      "avg / total       0.72      0.72      0.72      3156\n",
      "\n"
     ]
    }
   ],
   "source": [
    "SVM(X_tr,y_tr,X_ts,y_ts, 0)"
   ]
  },
  {
   "cell_type": "markdown",
   "metadata": {},
   "source": [
    "**3.4.6 Entrenamiento/ajuste de modelo *k-NN* **"
   ]
  },
  {
   "cell_type": "markdown",
   "metadata": {},
   "source": [
    "Finalmente, se entrena un modelo k-NN para distintos valores de k. Notar que no es posible verificar el comportamiento de los modelos resultantes desde k = 1 hasta k = *cantidad_de_muestras* (en este caso, *cantidad_de_muestras* = 4734), dado a que sería un procedimiento muy costoso, debido a la gran cantidad de valores que k podría tomar. En consecuencia, se toman cinco valores para k, partiendo desde k = 1 y aumentando el valor de dicho parámetro a intervalos regulares. "
   ]
  },
  {
   "cell_type": "code",
   "execution_count": 9,
   "metadata": {
    "collapsed": false,
    "scrolled": true
   },
   "outputs": [
    {
     "name": "stdout",
     "output_type": "stream",
     "text": [
      "Usando k = 1.000000\n",
      "Precisión datos de entrenamiento k-NN: 1.000000\n",
      "Precisión datos de prueba k-NN: 0.726869\n",
      "Análisis detallado de resultados sobre set de prueba:\n",
      "             precision    recall  f1-score   support\n",
      "\n",
      "    clase 1       0.76      0.81      0.78      1914\n",
      "    clase 0       0.67      0.60      0.63      1242\n",
      "\n",
      "avg / total       0.72      0.73      0.72      3156\n",
      "\n",
      "Usando k = 947.000000\n",
      "Precisión datos de entrenamiento k-NN: 0.614913\n",
      "Precisión datos de prueba k-NN: 0.609316\n",
      "Análisis detallado de resultados sobre set de prueba:\n",
      "             precision    recall  f1-score   support\n",
      "\n",
      "    clase 1       0.61      1.00      0.76      1914\n",
      "    clase 0       1.00      0.01      0.01      1242\n",
      "\n",
      "avg / total       0.76      0.61      0.46      3156\n",
      "\n",
      "Usando k = 1893.000000\n",
      "Precisión datos de entrenamiento k-NN: 0.611534\n",
      "Precisión datos de prueba k-NN: 0.606464\n",
      "Análisis detallado de resultados sobre set de prueba:\n",
      "             precision    recall  f1-score   support\n",
      "\n",
      "    clase 1       0.61      1.00      0.76      1914\n",
      "    clase 0       0.00      0.00      0.00      1242\n",
      "\n",
      "avg / total       0.37      0.61      0.46      3156\n",
      "\n",
      "Usando k = 2839.000000\n",
      "Precisión datos de entrenamiento k-NN: 0.611534\n",
      "Precisión datos de prueba k-NN: 0.606464\n",
      "Análisis detallado de resultados sobre set de prueba:\n",
      "             precision    recall  f1-score   support\n",
      "\n",
      "    clase 1       0.61      1.00      0.76      1914\n",
      "    clase 0       0.00      0.00      0.00      1242\n",
      "\n",
      "avg / total       0.37      0.61      0.46      3156\n",
      "\n",
      "Usando k = 3785.000000\n",
      "Precisión datos de entrenamiento k-NN: 0.611534\n",
      "Precisión datos de prueba k-NN: 0.606464\n",
      "Análisis detallado de resultados sobre set de prueba:\n",
      "             precision    recall  f1-score   support\n",
      "\n",
      "    clase 1       0.61      1.00      0.76      1914\n",
      "    clase 0       0.00      0.00      0.00      1242\n",
      "\n",
      "avg / total       0.37      0.61      0.46      3156\n",
      "\n",
      "Usando k = 4731.000000\n",
      "Precisión datos de entrenamiento k-NN: 0.611534\n",
      "Precisión datos de prueba k-NN: 0.606464\n",
      "Análisis detallado de resultados sobre set de prueba:\n",
      "             precision    recall  f1-score   support\n",
      "\n",
      "    clase 1       0.61      1.00      0.76      1914\n",
      "    clase 0       0.00      0.00      0.00      1242\n",
      "\n",
      "avg / total       0.37      0.61      0.46      3156\n",
      "\n"
     ]
    }
   ],
   "source": [
    "KNN(X_tr, y_tr, X_ts, y_ts, Z_tr.shape[0])"
   ]
  },
  {
   "cell_type": "markdown",
   "metadata": {
    "collapsed": true
   },
   "source": [
    "**3.4.7 Análisis de resultados**"
   ]
  },
  {
   "cell_type": "markdown",
   "metadata": {
    "collapsed": true
   },
   "source": [
    "Para el modelo de regresión logística, se observa que la mejor precisión para el conjunto de prueba se consigue bajo el parámetro de regularización C = 0.01, aunque la precisión sobre el conjunto de entrenamiento alcanza su valor mínimo. Para las siguientes instancias de C, la precisión en entrenamiento comienza a aumentar, pero disminuye para las pruebas. Por otro lado, para el modelo de SVM lineal, se observa el mismo comportamiento descrito anteriormente, siendo también C = 0.01 cuando la precisión sobre el conjunto de pruebas alcanza su valor máximo. Se puede ver que, si bien los resultados de los modelos binario y multinomial son buenos, no logran superar ni a SVM ni a regresión logística.\n",
    "\n",
    "Para k-NN, tanto la precisión de entrenamiento como la de prueba alcanzan sus valores más altos para k = 1. Más aún, tales valores de precisión disminuyen abruptamente para las siguientes instancias de k, obteniendose rendimientos bastante pobres para estos modelos.\n",
    "\n",
    "Así, se ve que regresión logística, con C = 0.01, es en definitiva el método que predice en forma más precisa la presencia de la competencia *Microsoft Office* en un perfil dado, con precisión de entrenamiento 0.843684 y precisión de prueba 0.829848. Además, k-NN es quién consigue los peores resultados. "
   ]
  },
  {
   "cell_type": "markdown",
   "metadata": {},
   "source": [
    "**3.5 Predicción de la competencia *Liderazgo de equipos***"
   ]
  },
  {
   "cell_type": "markdown",
   "metadata": {},
   "source": [
    "**3.5.1 Ajuste de conjuntos de entrenamiento y prueba**"
   ]
  },
  {
   "cell_type": "markdown",
   "metadata": {},
   "source": [
    "Se desea predecir la existencia de la competencia *Liderazgo de equipos* (id = 32) en un perfil dado, en base a las competencias restantes que el usuario declaró. Notar que corresponde a la segunda competencia más frecuente. Los métodos de clasificación a evaluar corresponden a los mismos de la sección 3.4. Además, se usa la siguiente notación:\n",
    "\n",
    "clase 1: Implica que la competencia *Liderazgo de equipos* efectivamente es declarada en el perfil actual.  \n",
    "clase 0: Caso contrario.\n",
    "\n",
    "Se procede de la siguiente manera:"
   ]
  },
  {
   "cell_type": "code",
   "execution_count": 49,
   "metadata": {
    "collapsed": false
   },
   "outputs": [],
   "source": [
    "#Para el set de entrenamiento, se construyen las matrices X_tr e y_tr a partir de Z_tr\n",
    "#Recordar que Liderazgo de equipos corresponde a la competencia numero 32\n",
    "y_tr = column_or_1d(Z_tr[:, 32].toarray())\n",
    "X_tr = csr_matrix(np.delete(Z_tr.toarray(), 32, 1))\n",
    "\n",
    "#Se procede de forma analoga con el conjunto de entrenamiento, construyendo X_ts e y_ts\n",
    "#a partir de Z_ts\n",
    "y_ts = column_or_1d(Z_ts[:, 32].toarray())\n",
    "X_ts = csr_matrix(np.delete(Z_ts.toarray(), 32, 1))"
   ]
  },
  {
   "cell_type": "markdown",
   "metadata": {},
   "source": [
    "**3.5.2 Entrenamiento/ajuste de clasificador Bayesiano Ingenuo Binario**"
   ]
  },
  {
   "cell_type": "markdown",
   "metadata": {},
   "source": [
    "Se entrena y posteriormente se evalúa modelo Bayesiano Ingenuo Binario en base a los nuevos datos."
   ]
  },
  {
   "cell_type": "code",
   "execution_count": 50,
   "metadata": {
    "collapsed": false
   },
   "outputs": [
    {
     "name": "stdout",
     "output_type": "stream",
     "text": [
      "Precisión datos de entrenamiento BernoulliNB: 0.877905\n",
      "Precisión datos de prueba BernoulliNB: 0.860900\n",
      "Análisis detallado de resultados sobre set de prueba:\n",
      "             precision    recall  f1-score   support\n",
      "\n",
      "    clase 1       0.89      0.90      0.89      2069\n",
      "    clase 0       0.80      0.79      0.80      1087\n",
      "\n",
      "avg / total       0.86      0.86      0.86      3156\n",
      "\n"
     ]
    },
    {
     "data": {
      "text/plain": [
       "BernoulliNB(alpha=1.0, binarize=0.0, class_prior=None, fit_prior=True)"
      ]
     },
     "execution_count": 50,
     "metadata": {},
     "output_type": "execute_result"
    }
   ],
   "source": [
    "NAIVE_BAYES(X_tr, y_tr, X_ts, y_ts)"
   ]
  },
  {
   "cell_type": "markdown",
   "metadata": {},
   "source": [
    "**3.5.3 Entrenamiento/ajuste de clasificador Bayesiano Ingenuo Multinomial**"
   ]
  },
  {
   "cell_type": "markdown",
   "metadata": {},
   "source": [
    "Se entrena y evalúa modelo Bayesiano Ingenuo Multinomial en base a nuevos datos."
   ]
  },
  {
   "cell_type": "code",
   "execution_count": 51,
   "metadata": {
    "collapsed": false
   },
   "outputs": [
    {
     "name": "stdout",
     "output_type": "stream",
     "text": [
      "Precisión datos de entrenamiento MULTINOMIAL: 0.861639\n",
      "Precisión datos de prueba MULTINOMIAL: 0.818441\n",
      "Análisis detallado de resultados sobre set de prueba:\n",
      "             precision    recall  f1-score   support\n",
      "\n",
      "    clase 1       0.91      0.80      0.85      2069\n",
      "    clase 0       0.69      0.85      0.76      1087\n",
      "\n",
      "avg / total       0.84      0.82      0.82      3156\n",
      "\n"
     ]
    },
    {
     "data": {
      "text/plain": [
       "MultinomialNB(alpha=1.0, class_prior=None, fit_prior=True)"
      ]
     },
     "execution_count": 51,
     "metadata": {},
     "output_type": "execute_result"
    }
   ],
   "source": [
    "MULTINOMIAL(X_tr, y_tr, X_ts, y_ts)"
   ]
  },
  {
   "cell_type": "markdown",
   "metadata": {},
   "source": [
    "**3.5.4 Entrenamiento/ajuste de modelo de Regresión Logística Regularizado** "
   ]
  },
  {
   "cell_type": "markdown",
   "metadata": {},
   "source": [
    "Se entrena y evalúa modelo de Regresión Logística Regularizado, bajo diferentes parámetros de regularización C, en base a nuevos datos."
   ]
  },
  {
   "cell_type": "code",
   "execution_count": 52,
   "metadata": {
    "collapsed": false,
    "scrolled": true
   },
   "outputs": [
    {
     "name": "stdout",
     "output_type": "stream",
     "text": [
      "Usando C= 0.010000\n",
      "Precisión datos de entrenamiento LOGISTIC: 0.888466\n",
      "Precisión datos de prueba LOGISTIC: 0.892269\n",
      "Análisis detallado de resultados sobre set de prueba:\n",
      "             precision    recall  f1-score   support\n",
      "\n",
      "    clase 1       0.91      0.93      0.92      2069\n",
      "    clase 0       0.86      0.82      0.84      1087\n",
      "\n",
      "avg / total       0.89      0.89      0.89      3156\n",
      "\n",
      "Usando C= 0.100000\n",
      "Precisión datos de entrenamiento LOGISTIC: 0.915927\n",
      "Precisión datos de prueba LOGISTIC: 0.895120\n",
      "Análisis detallado de resultados sobre set de prueba:\n",
      "             precision    recall  f1-score   support\n",
      "\n",
      "    clase 1       0.91      0.93      0.92      2069\n",
      "    clase 0       0.86      0.83      0.84      1087\n",
      "\n",
      "avg / total       0.89      0.90      0.89      3156\n",
      "\n",
      "Usando C= 10.000000\n",
      "Precisión datos de entrenamiento LOGISTIC: 0.983523\n",
      "Precisión datos de prueba LOGISTIC: 0.861217\n",
      "Análisis detallado de resultados sobre set de prueba:\n",
      "             precision    recall  f1-score   support\n",
      "\n",
      "    clase 1       0.89      0.90      0.89      2069\n",
      "    clase 0       0.80      0.79      0.80      1087\n",
      "\n",
      "avg / total       0.86      0.86      0.86      3156\n",
      "\n",
      "Usando C= 100.000000\n",
      "Precisión datos de entrenamiento LOGISTIC: 0.990283\n",
      "Precisión datos de prueba LOGISTIC: 0.812104\n",
      "Análisis detallado de resultados sobre set de prueba:\n",
      "             precision    recall  f1-score   support\n",
      "\n",
      "    clase 1       0.86      0.86      0.86      2069\n",
      "    clase 0       0.73      0.73      0.73      1087\n",
      "\n",
      "avg / total       0.81      0.81      0.81      3156\n",
      "\n",
      "Usando C= 1000.000000\n",
      "Precisión datos de entrenamiento LOGISTIC: 0.993874\n",
      "Precisión datos de prueba LOGISTIC: 0.762991\n",
      "Análisis detallado de resultados sobre set de prueba:\n",
      "             precision    recall  f1-score   support\n",
      "\n",
      "    clase 1       0.82      0.82      0.82      2069\n",
      "    clase 0       0.65      0.66      0.66      1087\n",
      "\n",
      "avg / total       0.76      0.76      0.76      3156\n",
      "\n"
     ]
    }
   ],
   "source": [
    "LOGIT(X_tr,y_tr,X_ts,y_ts, 0)"
   ]
  },
  {
   "cell_type": "markdown",
   "metadata": {},
   "source": [
    "**3.5.5 Entrenamiento/ajuste de una SVM Lineal**"
   ]
  },
  {
   "cell_type": "markdown",
   "metadata": {},
   "source": [
    "Se entrena y se evalúa una SVM Lineal bajo diferentes parámetros de regularización C, en base a nuevos datos."
   ]
  },
  {
   "cell_type": "code",
   "execution_count": 59,
   "metadata": {
    "collapsed": false,
    "scrolled": true
   },
   "outputs": [
    {
     "name": "stdout",
     "output_type": "stream",
     "text": [
      "El valor de C que se esta probando: 0.010000\n",
      "Precisión datos de entrenamiento SVM: 0.895437\n",
      "Precisión datos de prueba SVM: 0.893219\n",
      "Análisis detallado de resultados sobre set de prueba:\n",
      "             precision    recall  f1-score   support\n",
      "\n",
      "    clase 1       0.91      0.93      0.92      2069\n",
      "    clase 0       0.87      0.82      0.84      1087\n",
      "\n",
      "avg / total       0.89      0.89      0.89      3156\n",
      "\n",
      "El valor de C que se esta probando: 0.100000\n",
      "Precisión datos de entrenamiento SVM: 0.941487\n",
      "Precisión datos de prueba SVM: 0.891318\n",
      "Análisis detallado de resultados sobre set de prueba:\n",
      "             precision    recall  f1-score   support\n",
      "\n",
      "    clase 1       0.91      0.92      0.92      2069\n",
      "    clase 0       0.85      0.83      0.84      1087\n",
      "\n",
      "avg / total       0.89      0.89      0.89      3156\n",
      "\n",
      "El valor de C que se esta probando: 10.000000\n",
      "Precisión datos de entrenamiento SVM: 0.988804\n",
      "Precisión datos de prueba SVM: 0.833016\n",
      "Análisis detallado de resultados sobre set de prueba:\n",
      "             precision    recall  f1-score   support\n",
      "\n",
      "    clase 1       0.87      0.87      0.87      2069\n",
      "    clase 0       0.76      0.76      0.76      1087\n",
      "\n",
      "avg / total       0.83      0.83      0.83      3156\n",
      "\n",
      "El valor de C que se esta probando: 100.000000\n",
      "Precisión datos de entrenamiento SVM: 0.993663\n",
      "Precisión datos de prueba SVM: 0.782003\n",
      "Análisis detallado de resultados sobre set de prueba:\n",
      "             precision    recall  f1-score   support\n",
      "\n",
      "    clase 1       0.84      0.82      0.83      2069\n",
      "    clase 0       0.68      0.70      0.69      1087\n",
      "\n",
      "avg / total       0.78      0.78      0.78      3156\n",
      "\n",
      "El valor de C que se esta probando: 1000.000000\n"
     ]
    },
    {
     "ename": "KeyboardInterrupt",
     "evalue": "",
     "output_type": "error",
     "traceback": [
      "\u001b[0;31m---------------------------------------------------------------------------\u001b[0m",
      "\u001b[0;31mKeyboardInterrupt\u001b[0m                         Traceback (most recent call last)",
      "\u001b[0;32m<ipython-input-59-310fc1dc5cc6>\u001b[0m in \u001b[0;36m<module>\u001b[0;34m()\u001b[0m\n\u001b[0;32m----> 1\u001b[0;31m \u001b[0mSVM\u001b[0m\u001b[0;34m(\u001b[0m\u001b[0mX_tr\u001b[0m\u001b[0;34m,\u001b[0m\u001b[0my_tr\u001b[0m\u001b[0;34m,\u001b[0m\u001b[0mX_ts\u001b[0m\u001b[0;34m,\u001b[0m\u001b[0my_ts\u001b[0m\u001b[0;34m,\u001b[0m \u001b[0;36m0\u001b[0m\u001b[0;34m)\u001b[0m\u001b[0;34m\u001b[0m\u001b[0m\n\u001b[0m",
      "\u001b[0;32m/home/Seba/MachineLearning/Tarea2/Codigo/Problema3/clasificadores.py\u001b[0m in \u001b[0;36mSVM\u001b[0;34m(x, y, xt, yt, bestvalue)\u001b[0m\n\u001b[1;32m     52\u001b[0m             \u001b[0;32mprint\u001b[0m \u001b[0;34m\"El valor de C que se esta probando: %f\"\u001b[0m\u001b[0;34m%\u001b[0m\u001b[0mC\u001b[0m\u001b[0;34m\u001b[0m\u001b[0m\n\u001b[1;32m     53\u001b[0m             \u001b[0mmodel\u001b[0m \u001b[0;34m=\u001b[0m \u001b[0mSVC\u001b[0m\u001b[0;34m(\u001b[0m\u001b[0mC\u001b[0m\u001b[0;34m=\u001b[0m\u001b[0mC\u001b[0m\u001b[0;34m,\u001b[0m \u001b[0mkernel\u001b[0m\u001b[0;34m=\u001b[0m\u001b[0;34m'linear'\u001b[0m\u001b[0;34m,\u001b[0m \u001b[0mprobability\u001b[0m\u001b[0;34m=\u001b[0m\u001b[0mTrue\u001b[0m\u001b[0;34m)\u001b[0m\u001b[0;34m\u001b[0m\u001b[0m\n\u001b[0;32m---> 54\u001b[0;31m             \u001b[0mmodel\u001b[0m \u001b[0;34m=\u001b[0m \u001b[0mmodel\u001b[0m\u001b[0;34m.\u001b[0m\u001b[0mfit\u001b[0m\u001b[0;34m(\u001b[0m\u001b[0mx\u001b[0m\u001b[0;34m,\u001b[0m\u001b[0my\u001b[0m\u001b[0;34m)\u001b[0m\u001b[0;34m\u001b[0m\u001b[0m\n\u001b[0m\u001b[1;32m     55\u001b[0m             \u001b[0mscore_model\u001b[0m\u001b[0;34m(\u001b[0m\u001b[0mmodel\u001b[0m\u001b[0;34m,\u001b[0m \u001b[0mx\u001b[0m\u001b[0;34m,\u001b[0m \u001b[0my\u001b[0m\u001b[0;34m,\u001b[0m \u001b[0mxt\u001b[0m\u001b[0;34m,\u001b[0m \u001b[0myt\u001b[0m\u001b[0;34m,\u001b[0m \u001b[0;34m\"SVM\"\u001b[0m\u001b[0;34m)\u001b[0m\u001b[0;34m\u001b[0m\u001b[0m\n\u001b[1;32m     56\u001b[0m     \u001b[0;32melse\u001b[0m\u001b[0;34m:\u001b[0m \u001b[0;31m#Se entrena/ajusta modelo con el valor de C escogido\u001b[0m\u001b[0;34m\u001b[0m\u001b[0m\n",
      "\u001b[0;32m/usr/lib64/python2.7/site-packages/sklearn/svm/base.pyc\u001b[0m in \u001b[0;36mfit\u001b[0;34m(self, X, y, sample_weight)\u001b[0m\n\u001b[1;32m    191\u001b[0m \u001b[0;34m\u001b[0m\u001b[0m\n\u001b[1;32m    192\u001b[0m         \u001b[0mseed\u001b[0m \u001b[0;34m=\u001b[0m \u001b[0mrnd\u001b[0m\u001b[0;34m.\u001b[0m\u001b[0mrandint\u001b[0m\u001b[0;34m(\u001b[0m\u001b[0mnp\u001b[0m\u001b[0;34m.\u001b[0m\u001b[0miinfo\u001b[0m\u001b[0;34m(\u001b[0m\u001b[0;34m'i'\u001b[0m\u001b[0;34m)\u001b[0m\u001b[0;34m.\u001b[0m\u001b[0mmax\u001b[0m\u001b[0;34m)\u001b[0m\u001b[0;34m\u001b[0m\u001b[0m\n\u001b[0;32m--> 193\u001b[0;31m         \u001b[0mfit\u001b[0m\u001b[0;34m(\u001b[0m\u001b[0mX\u001b[0m\u001b[0;34m,\u001b[0m \u001b[0my\u001b[0m\u001b[0;34m,\u001b[0m \u001b[0msample_weight\u001b[0m\u001b[0;34m,\u001b[0m \u001b[0msolver_type\u001b[0m\u001b[0;34m,\u001b[0m \u001b[0mkernel\u001b[0m\u001b[0;34m,\u001b[0m \u001b[0mrandom_seed\u001b[0m\u001b[0;34m=\u001b[0m\u001b[0mseed\u001b[0m\u001b[0;34m)\u001b[0m\u001b[0;34m\u001b[0m\u001b[0m\n\u001b[0m\u001b[1;32m    194\u001b[0m         \u001b[0;31m# see comment on the other call to np.iinfo in this file\u001b[0m\u001b[0;34m\u001b[0m\u001b[0;34m\u001b[0m\u001b[0m\n\u001b[1;32m    195\u001b[0m \u001b[0;34m\u001b[0m\u001b[0m\n",
      "\u001b[0;32m/usr/lib64/python2.7/site-packages/sklearn/svm/base.pyc\u001b[0m in \u001b[0;36m_sparse_fit\u001b[0;34m(self, X, y, sample_weight, solver_type, kernel, random_seed)\u001b[0m\n\u001b[1;32m    271\u001b[0m                 \u001b[0msample_weight\u001b[0m\u001b[0;34m,\u001b[0m \u001b[0mself\u001b[0m\u001b[0;34m.\u001b[0m\u001b[0mnu\u001b[0m\u001b[0;34m,\u001b[0m \u001b[0mself\u001b[0m\u001b[0;34m.\u001b[0m\u001b[0mcache_size\u001b[0m\u001b[0;34m,\u001b[0m \u001b[0mself\u001b[0m\u001b[0;34m.\u001b[0m\u001b[0mepsilon\u001b[0m\u001b[0;34m,\u001b[0m\u001b[0;34m\u001b[0m\u001b[0m\n\u001b[1;32m    272\u001b[0m                 \u001b[0mint\u001b[0m\u001b[0;34m(\u001b[0m\u001b[0mself\u001b[0m\u001b[0;34m.\u001b[0m\u001b[0mshrinking\u001b[0m\u001b[0;34m)\u001b[0m\u001b[0;34m,\u001b[0m \u001b[0mint\u001b[0m\u001b[0;34m(\u001b[0m\u001b[0mself\u001b[0m\u001b[0;34m.\u001b[0m\u001b[0mprobability\u001b[0m\u001b[0;34m)\u001b[0m\u001b[0;34m,\u001b[0m \u001b[0mself\u001b[0m\u001b[0;34m.\u001b[0m\u001b[0mmax_iter\u001b[0m\u001b[0;34m,\u001b[0m\u001b[0;34m\u001b[0m\u001b[0m\n\u001b[0;32m--> 273\u001b[0;31m                 random_seed)\n\u001b[0m\u001b[1;32m    274\u001b[0m \u001b[0;34m\u001b[0m\u001b[0m\n\u001b[1;32m    275\u001b[0m         \u001b[0mself\u001b[0m\u001b[0;34m.\u001b[0m\u001b[0m_warn_from_fit_status\u001b[0m\u001b[0;34m(\u001b[0m\u001b[0;34m)\u001b[0m\u001b[0;34m\u001b[0m\u001b[0m\n",
      "\u001b[0;32msklearn/svm/libsvm_sparse.pyx\u001b[0m in \u001b[0;36msklearn.svm.libsvm_sparse.libsvm_sparse_train (sklearn/svm/libsvm_sparse.c:2392)\u001b[0;34m()\u001b[0m\n",
      "\u001b[0;32m/usr/lib64/python2.7/site-packages/scipy/sparse/compressed.pyc\u001b[0m in \u001b[0;36m__init__\u001b[0;34m(self, arg1, shape, dtype, copy)\u001b[0m\n\u001b[1;32m     22\u001b[0m     \u001b[0;34m\"\"\"base matrix class for compressed row and column oriented matrices\"\"\"\u001b[0m\u001b[0;34m\u001b[0m\u001b[0m\n\u001b[1;32m     23\u001b[0m \u001b[0;34m\u001b[0m\u001b[0m\n\u001b[0;32m---> 24\u001b[0;31m     \u001b[0;32mdef\u001b[0m \u001b[0m__init__\u001b[0m\u001b[0;34m(\u001b[0m\u001b[0mself\u001b[0m\u001b[0;34m,\u001b[0m \u001b[0marg1\u001b[0m\u001b[0;34m,\u001b[0m \u001b[0mshape\u001b[0m\u001b[0;34m=\u001b[0m\u001b[0mNone\u001b[0m\u001b[0;34m,\u001b[0m \u001b[0mdtype\u001b[0m\u001b[0;34m=\u001b[0m\u001b[0mNone\u001b[0m\u001b[0;34m,\u001b[0m \u001b[0mcopy\u001b[0m\u001b[0;34m=\u001b[0m\u001b[0mFalse\u001b[0m\u001b[0;34m)\u001b[0m\u001b[0;34m:\u001b[0m\u001b[0;34m\u001b[0m\u001b[0m\n\u001b[0m\u001b[1;32m     25\u001b[0m         \u001b[0m_data_matrix\u001b[0m\u001b[0;34m.\u001b[0m\u001b[0m__init__\u001b[0m\u001b[0;34m(\u001b[0m\u001b[0mself\u001b[0m\u001b[0;34m)\u001b[0m\u001b[0;34m\u001b[0m\u001b[0m\n\u001b[1;32m     26\u001b[0m \u001b[0;34m\u001b[0m\u001b[0m\n",
      "\u001b[0;31mKeyboardInterrupt\u001b[0m: "
     ]
    }
   ],
   "source": [
    "SVM(X_tr,y_tr,X_ts,y_ts, 0)"
   ]
  },
  {
   "cell_type": "markdown",
   "metadata": {},
   "source": [
    "**3.5.6 Entrenamiento/ajuste de modelo *k-NN* **"
   ]
  },
  {
   "cell_type": "markdown",
   "metadata": {},
   "source": [
    "Se entrena y evalúa modelo k-NN siguiendo la misma lógica de la sección 3.4.6."
   ]
  },
  {
   "cell_type": "code",
   "execution_count": 56,
   "metadata": {
    "collapsed": false,
    "scrolled": true
   },
   "outputs": [
    {
     "name": "stdout",
     "output_type": "stream",
     "text": [
      "Usando k = 1.000000\n",
      "Precisión datos de entrenamiento k-NN: 0.999155\n",
      "Precisión datos de prueba k-NN: 0.776933\n",
      "Análisis detallado de resultados sobre set de prueba:\n",
      "             precision    recall  f1-score   support\n",
      "\n",
      "    clase 1       0.84      0.82      0.83      2069\n",
      "    clase 0       0.67      0.70      0.68      1087\n",
      "\n",
      "avg / total       0.78      0.78      0.78      3156\n",
      "\n",
      "Usando k = 947.000000\n",
      "Precisión datos de entrenamiento k-NN: 0.648711\n",
      "Precisión datos de prueba k-NN: 0.657161\n",
      "Análisis detallado de resultados sobre set de prueba:\n",
      "             precision    recall  f1-score   support\n",
      "\n",
      "    clase 1       0.66      1.00      0.79      2069\n",
      "    clase 0       1.00      0.00      0.01      1087\n",
      "\n",
      "avg / total       0.77      0.66      0.52      3156\n",
      "\n",
      "Usando k = 1893.000000\n",
      "Precisión datos de entrenamiento k-NN: 0.646388\n",
      "Precisión datos de prueba k-NN: 0.655577\n",
      "Análisis detallado de resultados sobre set de prueba:\n",
      "             precision    recall  f1-score   support\n",
      "\n",
      "    clase 1       0.66      1.00      0.79      2069\n",
      "    clase 0       0.00      0.00      0.00      1087\n",
      "\n",
      "avg / total       0.43      0.66      0.52      3156\n",
      "\n",
      "Usando k = 2839.000000\n",
      "Precisión datos de entrenamiento k-NN: 0.646388\n",
      "Precisión datos de prueba k-NN: 0.655577\n",
      "Análisis detallado de resultados sobre set de prueba:\n",
      "             precision    recall  f1-score   support\n",
      "\n",
      "    clase 1       0.66      1.00      0.79      2069\n",
      "    clase 0       0.00      0.00      0.00      1087\n",
      "\n",
      "avg / total       0.43      0.66      0.52      3156\n",
      "\n",
      "Usando k = 3785.000000\n",
      "Precisión datos de entrenamiento k-NN: 0.646388\n",
      "Precisión datos de prueba k-NN: 0.655577\n",
      "Análisis detallado de resultados sobre set de prueba:\n",
      "             precision    recall  f1-score   support\n",
      "\n",
      "    clase 1       0.66      1.00      0.79      2069\n",
      "    clase 0       0.00      0.00      0.00      1087\n",
      "\n",
      "avg / total       0.43      0.66      0.52      3156\n",
      "\n",
      "Usando k = 4731.000000\n",
      "Precisión datos de entrenamiento k-NN: 0.646388\n",
      "Precisión datos de prueba k-NN: 0.655577\n",
      "Análisis detallado de resultados sobre set de prueba:\n",
      "             precision    recall  f1-score   support\n",
      "\n",
      "    clase 1       0.66      1.00      0.79      2069\n",
      "    clase 0       0.00      0.00      0.00      1087\n",
      "\n",
      "avg / total       0.43      0.66      0.52      3156\n",
      "\n"
     ]
    }
   ],
   "source": [
    "KNN(X_tr, y_tr, X_ts, y_ts, Z_tr.shape[0])"
   ]
  },
  {
   "cell_type": "markdown",
   "metadata": {},
   "source": [
    "**3.5.7 Análisis de resultados**"
   ]
  },
  {
   "cell_type": "markdown",
   "metadata": {},
   "source": [
    "En primer lugar, se observa que en comparación a la predicción de la competencia *Microsoft Office*, se obtienen valores superiores de precisión, tanto de entrenamiento como de prueba, para todos los métodos de clasificación utilizados en la predicción de la competencia *Liderazgo de equipos*. \n",
    "\n",
    "Si se analiza cada clasificador en detalle, se tiene que éstos se comportan de similar forma respecto a la predicción de *Microsoft Office*: Regresión logística logra su mejor rendimiento para C = 0.1, al igual que la SVM lineal. Además, k-NN resulta ser el peor de los métodos, aunque mejora en comparación a la aplicación de k-NN en la predicción de *Microsoft Office*. Otra vez, tanto el modelo binario como el multinomial no logran mejorar los resultados de SVM y regresión logística. \n",
    "\n",
    "Comparando los cinco métodos, se tiene que nuevamente es regresión logística quien alcanza los mayores valores de precisión, pero ésta vez para C = 0.1, con precisión de entrenamiento 0.915927 y precisión de prueba 0.895120."
   ]
  },
  {
   "cell_type": "markdown",
   "metadata": {
    "collapsed": true
   },
   "source": [
    "**3.6 Predicción de la competencia *Gestión de proyectos***"
   ]
  },
  {
   "cell_type": "markdown",
   "metadata": {},
   "source": [
    "**3.6.1 Ajuste de conjuntos de entrenamiento y prueba**"
   ]
  },
  {
   "cell_type": "markdown",
   "metadata": {},
   "source": [
    "Se desea predecir la existencia de la competencia *Gestión de proyectos* (id = 43) en un perfil dado, en base a las competencias restantes que el usuario declaró. Notar que corresponde a la tercera competencia más frecuente. Los métodos de clasificación a evaluar corresponden a los mismos de las secciones 3.4 y 3.5. Además, se usa la siguiente notación:\n",
    "\n",
    "clase 1: Implica que la competencia *Gestión de proyectos* efectivamente es declarada en el perfil actual.  \n",
    "clase 0: Caso contrario.\n",
    "\n",
    "Se procede de la siguiente manera:"
   ]
  },
  {
   "cell_type": "code",
   "execution_count": 7,
   "metadata": {
    "collapsed": true
   },
   "outputs": [],
   "source": [
    "#Para el set de entrenamiento, se construyen las matrices X_tr e y_tr a partir de Z_tr\n",
    "#Recordar que Gestión de proyectos corresponde a la competencia numero 43\n",
    "y_tr = column_or_1d(Z_tr[:, 43].toarray())\n",
    "X_tr = csr_matrix(np.delete(Z_tr.toarray(), 43, 1))\n",
    "\n",
    "#Se procede de forma analoga con el conjunto de entrenamiento, construyendo X_ts e y_ts\n",
    "#a partir de Z_ts\n",
    "y_ts = column_or_1d(Z_ts[:, 43].toarray())\n",
    "X_ts = csr_matrix(np.delete(Z_ts.toarray(), 43, 1))"
   ]
  },
  {
   "cell_type": "markdown",
   "metadata": {
    "collapsed": true
   },
   "source": [
    "**3.6.2 Entrenamiento/ajuste de clasificador Bayesiano Ingenuo Binario**"
   ]
  },
  {
   "cell_type": "markdown",
   "metadata": {},
   "source": [
    "Se entrena y evalúa clasificador Bayesiano Ingenuo Binario con los nuevos datos generados."
   ]
  },
  {
   "cell_type": "code",
   "execution_count": 9,
   "metadata": {
    "collapsed": false
   },
   "outputs": [
    {
     "name": "stdout",
     "output_type": "stream",
     "text": [
      "Precisión datos de entrenamiento BernoulliNB: 0.861850\n",
      "Precisión datos de prueba BernoulliNB: 0.834284\n",
      "Análisis detallado de resultados sobre set de prueba:\n",
      "             precision    recall  f1-score   support\n",
      "\n",
      "    clase 1       0.88      0.89      0.89      2278\n",
      "    clase 0       0.70      0.70      0.70       878\n",
      "\n",
      "avg / total       0.83      0.83      0.83      3156\n",
      "\n"
     ]
    },
    {
     "data": {
      "text/plain": [
       "BernoulliNB(alpha=1.0, binarize=0.0, class_prior=None, fit_prior=True)"
      ]
     },
     "execution_count": 9,
     "metadata": {},
     "output_type": "execute_result"
    }
   ],
   "source": [
    "NAIVE_BAYES(X_tr, y_tr, X_ts, y_ts)"
   ]
  },
  {
   "cell_type": "markdown",
   "metadata": {},
   "source": [
    "**3.6.3 Entrenamiento/ajuste de clasificador Bayesiano Ingenuo Multinomial**"
   ]
  },
  {
   "cell_type": "markdown",
   "metadata": {},
   "source": [
    "Se entrena y evalúa clasificador Bayesiano Ingenuo Multinomial a partir de los nuevos datos generados."
   ]
  },
  {
   "cell_type": "code",
   "execution_count": 11,
   "metadata": {
    "collapsed": false
   },
   "outputs": [
    {
     "name": "stdout",
     "output_type": "stream",
     "text": [
      "Precisión datos de entrenamiento MULTINOMIAL: 0.867765\n",
      "Precisión datos de prueba MULTINOMIAL: 0.809886\n",
      "Análisis detallado de resultados sobre set de prueba:\n",
      "             precision    recall  f1-score   support\n",
      "\n",
      "    clase 1       0.92      0.80      0.86      2278\n",
      "    clase 0       0.62      0.82      0.71       878\n",
      "\n",
      "avg / total       0.84      0.81      0.82      3156\n",
      "\n"
     ]
    },
    {
     "data": {
      "text/plain": [
       "MultinomialNB(alpha=1.0, class_prior=None, fit_prior=True)"
      ]
     },
     "execution_count": 11,
     "metadata": {},
     "output_type": "execute_result"
    }
   ],
   "source": [
    "MULTINOMIAL(X_tr, y_tr, X_ts, y_ts)"
   ]
  },
  {
   "cell_type": "markdown",
   "metadata": {},
   "source": [
    "**3.6.4 Entrenamiento/ajuste de modelo de Regresión Logística Regularizado**"
   ]
  },
  {
   "cell_type": "markdown",
   "metadata": {},
   "source": [
    "Se entrena y evalúa modelo de Regresión Logística Regularizado para diferentes parámetros de regularización C."
   ]
  },
  {
   "cell_type": "code",
   "execution_count": 13,
   "metadata": {
    "collapsed": false,
    "scrolled": true
   },
   "outputs": [
    {
     "name": "stdout",
     "output_type": "stream",
     "text": [
      "Usando C= 0.010000\n",
      "Precisión datos de entrenamiento LOGISTIC: 0.875581\n",
      "Precisión datos de prueba LOGISTIC: 0.873574\n",
      "Análisis detallado de resultados sobre set de prueba:\n",
      "             precision    recall  f1-score   support\n",
      "\n",
      "    clase 1       0.89      0.93      0.91      2278\n",
      "    clase 0       0.81      0.72      0.76       878\n",
      "\n",
      "avg / total       0.87      0.87      0.87      3156\n",
      "\n",
      "Usando C= 0.100000\n",
      "Precisión datos de entrenamiento LOGISTIC: 0.912759\n",
      "Precisión datos de prueba LOGISTIC: 0.873891\n",
      "Análisis detallado de resultados sobre set de prueba:\n",
      "             precision    recall  f1-score   support\n",
      "\n",
      "    clase 1       0.90      0.93      0.91      2278\n",
      "    clase 0       0.80      0.72      0.76       878\n",
      "\n",
      "avg / total       0.87      0.87      0.87      3156\n",
      "\n",
      "Usando C= 10.000000\n",
      "Precisión datos de entrenamiento LOGISTIC: 0.982678\n",
      "Precisión datos de prueba LOGISTIC: 0.838720\n",
      "Análisis detallado de resultados sobre set de prueba:\n",
      "             precision    recall  f1-score   support\n",
      "\n",
      "    clase 1       0.88      0.89      0.89      2278\n",
      "    clase 0       0.72      0.69      0.71       878\n",
      "\n",
      "avg / total       0.84      0.84      0.84      3156\n",
      "\n",
      "Usando C= 100.000000\n",
      "Precisión datos de entrenamiento LOGISTIC: 0.990283\n",
      "Precisión datos de prueba LOGISTIC: 0.805767\n",
      "Análisis detallado de resultados sobre set de prueba:\n",
      "             precision    recall  f1-score   support\n",
      "\n",
      "    clase 1       0.87      0.86      0.87      2278\n",
      "    clase 0       0.65      0.66      0.65       878\n",
      "\n",
      "avg / total       0.81      0.81      0.81      3156\n",
      "\n",
      "Usando C= 1000.000000\n",
      "Precisión datos de entrenamiento LOGISTIC: 0.992395\n",
      "Precisión datos de prueba LOGISTIC: 0.769011\n",
      "Análisis detallado de resultados sobre set de prueba:\n",
      "             precision    recall  f1-score   support\n",
      "\n",
      "    clase 1       0.85      0.83      0.84      2278\n",
      "    clase 0       0.58      0.62      0.60       878\n",
      "\n",
      "avg / total       0.77      0.77      0.77      3156\n",
      "\n"
     ]
    }
   ],
   "source": [
    "LOGIT(X_tr, y_tr, X_ts, y_ts, 0)"
   ]
  },
  {
   "cell_type": "markdown",
   "metadata": {},
   "source": [
    " **3.6.5 Entrenamiento/ajuste de una SVM lineal**"
   ]
  },
  {
   "cell_type": "markdown",
   "metadata": {},
   "source": [
    "Se entrena y evalúa una SVM lineal para diferentes parámetros de regularización C."
   ]
  },
  {
   "cell_type": "code",
   "execution_count": 14,
   "metadata": {
    "collapsed": false,
    "scrolled": true
   },
   "outputs": [
    {
     "name": "stdout",
     "output_type": "stream",
     "text": [
      "El valor de C que se esta probando: 0.010000\n",
      "Precisión datos de entrenamiento SVM: 0.888466\n",
      "Precisión datos de prueba SVM: 0.871039\n",
      "Análisis detallado de resultados sobre set de prueba:\n",
      "             precision    recall  f1-score   support\n",
      "\n",
      "    clase 1       0.89      0.93      0.91      2278\n",
      "    clase 0       0.81      0.71      0.75       878\n",
      "\n",
      "avg / total       0.87      0.87      0.87      3156\n",
      "\n",
      "El valor de C que se esta probando: 0.100000\n",
      "Precisión datos de entrenamiento SVM: 0.937896\n",
      "Precisión datos de prueba SVM: 0.871990\n",
      "Análisis detallado de resultados sobre set de prueba:\n",
      "             precision    recall  f1-score   support\n",
      "\n",
      "    clase 1       0.90      0.92      0.91      2278\n",
      "    clase 0       0.79      0.74      0.76       878\n",
      "\n",
      "avg / total       0.87      0.87      0.87      3156\n",
      "\n",
      "El valor de C que se esta probando: 10.000000\n",
      "Precisión datos de entrenamiento SVM: 0.987748\n",
      "Precisión datos de prueba SVM: 0.808619\n",
      "Análisis detallado de resultados sobre set de prueba:\n",
      "             precision    recall  f1-score   support\n",
      "\n",
      "    clase 1       0.88      0.86      0.87      2278\n",
      "    clase 0       0.65      0.68      0.66       878\n",
      "\n",
      "avg / total       0.81      0.81      0.81      3156\n",
      "\n",
      "El valor de C que se esta probando: 100.000000\n",
      "Precisión datos de entrenamiento SVM: 0.993240\n",
      "Precisión datos de prueba SVM: 0.781686\n",
      "Análisis detallado de resultados sobre set de prueba:\n",
      "             precision    recall  f1-score   support\n",
      "\n",
      "    clase 1       0.86      0.83      0.85      2278\n",
      "    clase 0       0.60      0.65      0.62       878\n",
      "\n",
      "avg / total       0.79      0.78      0.78      3156\n",
      "\n",
      "El valor de C que se esta probando: 1000.000000\n",
      "Precisión datos de entrenamiento SVM: 0.994297\n",
      "Precisión datos de prueba SVM: 0.748733\n",
      "Análisis detallado de resultados sobre set de prueba:\n",
      "             precision    recall  f1-score   support\n",
      "\n",
      "    clase 1       0.84      0.80      0.82      2278\n",
      "    clase 0       0.54      0.60      0.57       878\n",
      "\n",
      "avg / total       0.76      0.75      0.75      3156\n",
      "\n"
     ]
    }
   ],
   "source": [
    "SVM(X_tr, y_tr, X_ts, y_ts, 0)"
   ]
  },
  {
   "cell_type": "markdown",
   "metadata": {},
   "source": [
    "**3.6.6 Entrenamiento/ajuste de modelo *k-NN***"
   ]
  },
  {
   "cell_type": "markdown",
   "metadata": {},
   "source": [
    "Se entrena y evalúa un modelo k-NN para diferentes valores del parámetro k, al igual que como se hizo en las secciones 3.4.6 y 3.5.6."
   ]
  },
  {
   "cell_type": "code",
   "execution_count": 15,
   "metadata": {
    "collapsed": false,
    "scrolled": true
   },
   "outputs": [
    {
     "name": "stdout",
     "output_type": "stream",
     "text": [
      "Usando k = 1.000000\n",
      "Precisión datos de entrenamiento k-NN: 0.998944\n",
      "Precisión datos de prueba k-NN: 0.809886\n",
      "Análisis detallado de resultados sobre set de prueba:\n",
      "             precision    recall  f1-score   support\n",
      "\n",
      "    clase 1       0.84      0.91      0.87      2278\n",
      "    clase 0       0.71      0.54      0.61       878\n",
      "\n",
      "avg / total       0.80      0.81      0.80      3156\n",
      "\n",
      "Usando k = 947.000000\n",
      "Precisión datos de entrenamiento k-NN: 0.720110\n",
      "Precisión datos de prueba k-NN: 0.722117\n",
      "Análisis detallado de resultados sobre set de prueba:\n",
      "             precision    recall  f1-score   support\n",
      "\n",
      "    clase 1       0.72      1.00      0.84      2278\n",
      "    clase 0       1.00      0.00      0.00       878\n",
      "\n",
      "avg / total       0.80      0.72      0.61      3156\n",
      "\n",
      "Usando k = 1893.000000\n",
      "Precisión datos de entrenamiento k-NN: 0.719899\n",
      "Precisión datos de prueba k-NN: 0.721800\n",
      "Análisis detallado de resultados sobre set de prueba:\n"
     ]
    },
    {
     "name": "stderr",
     "output_type": "stream",
     "text": [
      "/usr/lib64/python2.7/site-packages/sklearn/metrics/classification.py:1074: UndefinedMetricWarning: Precision and F-score are ill-defined and being set to 0.0 in labels with no predicted samples.\n",
      "  'precision', 'predicted', average, warn_for)\n"
     ]
    },
    {
     "name": "stdout",
     "output_type": "stream",
     "text": [
      "             precision    recall  f1-score   support\n",
      "\n",
      "    clase 1       0.72      1.00      0.84      2278\n",
      "    clase 0       0.00      0.00      0.00       878\n",
      "\n",
      "avg / total       0.52      0.72      0.61      3156\n",
      "\n",
      "Usando k = 2839.000000\n",
      "Precisión datos de entrenamiento k-NN: 0.719899\n",
      "Precisión datos de prueba k-NN: 0.721800\n",
      "Análisis detallado de resultados sobre set de prueba:\n",
      "             precision    recall  f1-score   support\n",
      "\n",
      "    clase 1       0.72      1.00      0.84      2278\n",
      "    clase 0       0.00      0.00      0.00       878\n",
      "\n",
      "avg / total       0.52      0.72      0.61      3156\n",
      "\n",
      "Usando k = 3785.000000\n",
      "Precisión datos de entrenamiento k-NN: 0.719899\n",
      "Precisión datos de prueba k-NN: 0.721800\n",
      "Análisis detallado de resultados sobre set de prueba:\n",
      "             precision    recall  f1-score   support\n",
      "\n",
      "    clase 1       0.72      1.00      0.84      2278\n",
      "    clase 0       0.00      0.00      0.00       878\n",
      "\n",
      "avg / total       0.52      0.72      0.61      3156\n",
      "\n",
      "Usando k = 4731.000000\n",
      "Precisión datos de entrenamiento k-NN: 0.719899\n",
      "Precisión datos de prueba k-NN: 0.721800\n",
      "Análisis detallado de resultados sobre set de prueba:\n",
      "             precision    recall  f1-score   support\n",
      "\n",
      "    clase 1       0.72      1.00      0.84      2278\n",
      "    clase 0       0.00      0.00      0.00       878\n",
      "\n",
      "avg / total       0.52      0.72      0.61      3156\n",
      "\n"
     ]
    }
   ],
   "source": [
    "KNN(X_tr, y_tr, X_ts, y_ts, Z_tr.shape[0])"
   ]
  },
  {
   "cell_type": "markdown",
   "metadata": {},
   "source": [
    "**3.6.7 Análisis de resultados**"
   ]
  },
  {
   "cell_type": "markdown",
   "metadata": {},
   "source": [
    "La predicción de la competencia *Gestión de proyectos* alcanza, en general, precisiones inferiores a las alcanzadas en la predicción de *Liderazgo de equipos*, pero superiores a las de *Microsoft Office*. \n",
    "\n",
    "No hay novedades en lo que respecta al comportamiento de los clasificadores: Regresión logística alcanza su mejor rendimiento para C = 0.1, al igual que el modelo SVM. Una vez más, k-NN obtiene los peores resultados, pero mejora respecto a la predicción de las competencias previamente analizadas. Los modelos binario y multinomial nuevamente consiguen buenos resultados, pero no consiguen ser superiores ni a regresión logística ni a SVM.\n",
    "\n",
    "En consecuencia, y por tercera vez consecutiva, es regresión logística quién obtiene los mejores resultados en cuanto a precisión, para C = 0.1, con precisión de entrenamiento 0.912759 y precisión de prueba 0.873574."
   ]
  }
 ],
 "metadata": {
  "kernelspec": {
   "display_name": "Python 2",
   "language": "python",
   "name": "python2"
  },
  "language_info": {
   "codemirror_mode": {
    "name": "ipython",
    "version": 2
   },
   "file_extension": ".py",
   "mimetype": "text/x-python",
   "name": "python",
   "nbconvert_exporter": "python",
   "pygments_lexer": "ipython2",
   "version": "2.7.10"
  }
 },
 "nbformat": 4,
 "nbformat_minor": 1
}
