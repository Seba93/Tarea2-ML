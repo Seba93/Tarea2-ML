{
 "cells": [
  {
   "cell_type": "markdown",
   "metadata": {},
   "source": [
    "<h1>3. Skill Prediction en LinkedIN"
   ]
  },
  {
   "cell_type": "markdown",
   "metadata": {},
   "source": [
    "**3.0 Importaciones necesarias**"
   ]
  },
  {
   "cell_type": "markdown",
   "metadata": {},
   "source": [
    "Se importan librerías y métodos necesarios para el correcto funcionamiento de las activades a desarrollar dentro de ésta sección."
   ]
  },
  {
   "cell_type": "code",
   "execution_count": 1,
   "metadata": {
    "collapsed": false
   },
   "outputs": [],
   "source": [
    "#!usr/bin/env python\n",
    "# -*- coding: utf-8 -*-\n",
    "from scipy.sparse import csr_matrix\n",
    "import re\n",
    "import numpy as np\n",
    "from sklearn.utils import shuffle\n",
    "import matplotlib.pyplot as plt\n",
    "from sklearn.utils import column_or_1d\n",
    "from clasificadores import *"
   ]
  },
  {
   "cell_type": "markdown",
   "metadata": {},
   "source": [
    "**3.1 Construcción de dataset**"
   ]
  },
  {
   "cell_type": "markdown",
   "metadata": {},
   "source": [
    "Primeramente, se crea la función *generar_Z*, la cual, a partir de los archivos *user_skill* y *skill_id*, construye una matriz dispersa con los datos provistos en dicho archivo. Tal matriz será denotada de aquí en adelante como Z."
   ]
  },
  {
   "cell_type": "code",
   "execution_count": 2,
   "metadata": {
    "collapsed": false
   },
   "outputs": [],
   "source": [
    "#Se define funcion para construir matriz Z\n",
    "def generar_Z(arch1, arch2):\n",
    "    #Variables que contienen la cantidad de perfiles y de competencias, respectivamente\n",
    "    n_perfiles = 0\n",
    "    n_competencias = 0\n",
    "    \n",
    "    #Se determina la cantidad de perfiles\n",
    "    with open(arch1) as perfiles:\n",
    "        n_perfiles = sum(1 for _ in perfiles)\n",
    "    \n",
    "    #Se determina la cantidad de competencias\n",
    "    with open(arch2) as competencias:\n",
    "        n_competencias = sum(1 for _ in competencias)\n",
    "        \n",
    "    #Se crea fisicamente la matriz Z\n",
    "    Z = np.zeros(shape=(n_perfiles, n_competencias), dtype=np.int)\n",
    "    \n",
    "    #Se procede a 'trasladar' los valores de los archivos a Z\n",
    "    with open(arch1) as perfiles:\n",
    "        for line in perfiles:\n",
    "            datos = re.split(':|,|\\n', line)\n",
    "            n_perfil = int(datos[0])\n",
    "            for n_competencia in datos[1:-1]:\n",
    "                Z[n_perfil, int(n_competencia)] = 1\n",
    "    \n",
    "    Z = csr_matrix(Z)\n",
    "    return Z"
   ]
  },
  {
   "cell_type": "markdown",
   "metadata": {},
   "source": [
    "Luego, se procede a construir la matriz Z con que se trabajará de ahora en adelante."
   ]
  },
  {
   "cell_type": "code",
   "execution_count": 3,
   "metadata": {
    "collapsed": false,
    "scrolled": true
   },
   "outputs": [],
   "source": [
    "Z = generar_Z('user_skill', 'skill_id')"
   ]
  },
  {
   "cell_type": "markdown",
   "metadata": {},
   "source": [
    "A partir del resultado anterior, se puede obtener la cantidad de perfiles y de competencias que integran los dataset."
   ]
  },
  {
   "cell_type": "code",
   "execution_count": 4,
   "metadata": {
    "collapsed": false
   },
   "outputs": [
    {
     "name": "stdout",
     "output_type": "stream",
     "text": [
      "Se cuenta con un dataset compuesto por 7890 perfiles y 14544 competencias.\n"
     ]
    }
   ],
   "source": [
    "print 'Se cuenta con un dataset compuesto por', Z.shape[0], 'perfiles y', Z.shape[1], 'competencias.'"
   ]
  },
  {
   "cell_type": "markdown",
   "metadata": {},
   "source": [
    "**3.2 Construcción de set de entrenamiento y set de pruebas**"
   ]
  },
  {
   "cell_type": "markdown",
   "metadata": {},
   "source": [
    "A partir de la matriz Z generada en la sección anterior, se procede a construir los conjuntos de entrenamiento y de prueba. Para ello, se seleccionan registros desde Z en forma azarosa de tal forma que el conjunto de entrenamiento estará compuesto por el 60% de los registros del dataset original, mientras que el conjunto de prueba estará integrando por el 40% de los registros de dicho dataset. Considerando que Z acumula 7890 perfiles, el conjunto de entrenamiento tendrá 4734 registros y el de prueba, 3156 registros.\n",
    "\n",
    "Para realizar la tarea descrita, se sigue el procedimiento presentado a continuación:"
   ]
  },
  {
   "cell_type": "code",
   "execution_count": 5,
   "metadata": {
    "collapsed": false
   },
   "outputs": [],
   "source": [
    "#Se permutan aleatoriamente las filas de la matriz Z\n",
    "Z = shuffle(Z, random_state=0)\n",
    "\n",
    "#Se construyen conjunto de entrenamiento y de prueba, respectivamente\n",
    "Z_tr = Z[0:int(0.6*Z.shape[0])]\n",
    "Z_ts = Z[int(0.6*Z.shape[0]):]"
   ]
  },
  {
   "cell_type": "markdown",
   "metadata": {},
   "source": [
    "**3.3 Cantidad de perfiles por competencia**"
   ]
  },
  {
   "cell_type": "markdown",
   "metadata": {},
   "source": [
    "En ésta sección, se desea construir un gráfico en el que sea posible apreciar la cantidad de perfiles que declaran una determinada competencia. Para esto, se lleva a cabo el siguiente procedimiento:"
   ]
  },
  {
   "cell_type": "code",
   "execution_count": 9,
   "metadata": {
    "collapsed": false
   },
   "outputs": [],
   "source": [
    "#NOTA: La siguiente pieza de codigo demora alrededor de 20 segundos en ejecutarse\n",
    "\n",
    "#Se obtiene el nombre, identificador y cantidad de perfiles asociado a cada competencia, y se \n",
    "#almacenan en una lista de tuplas\n",
    "\n",
    "lista_competencias = []\n",
    "with open('skill_id') as competencias:\n",
    "    for line in competencias:\n",
    "        dato = re.split(' :|:|\\n', line)\n",
    "        dato = dato[0:-1]\n",
    "        \n",
    "        if (len(dato) > 2):\n",
    "            nombre_competencia = ''\n",
    "            for token in dato[0:-1]:\n",
    "                nombre_competencia += token\n",
    "            id_competencia = int(dato[-1])\n",
    "            cantidad_perfiles = Z[:, id_competencia].sum()\n",
    "            lista_competencias.append((nombre_competencia + '(' + str(id_competencia) + ')', cantidad_perfiles))\n",
    "            \n",
    "        else:\n",
    "            if (dato[0] != ''):\n",
    "                nombre_competencia = dato[0]\n",
    "                id_competencia = int(dato[1])\n",
    "                cantidad_perfiles = Z[:, id_competencia].sum()\n",
    "                lista_competencias.append((nombre_competencia + '(' + str(id_competencia) + ')', cantidad_perfiles))\n",
    "            \n",
    "#Finalizado el proceso anterior, se ordena la lista competencias por su frecuencia\n",
    "lista_competencias.sort(key=lambda tup: tup[1], reverse=True)\n",
    "\n",
    "#A continuacion, se muestra un ranking con las 10 competencias mas frecuentes\n",
    "#print('A continuación, se muestra un ranking con las 10 competencias más frecuentes (con su id entre \\nparéntesis), acompañadas por la cantidad de perfiles en que es declarada. Es importante considerar que sólo se han tomado en cuenta aquellas competencias cuyo nombre es no nulo.\\n')\n",
    "#contador = 0\n",
    "#for comp in lista_competencias:\n",
    "#    print contador+1,'.', comp[0], '(', comp[1],')',':', comp[2]\n",
    "#    contador += 1\n",
    "#    if (contador > 9):\n",
    "#        break\n",
    "\n",
    "#Finalmente, se elabora gráfico que muestra las 10 competencias mas frecuentes, junto con su\n",
    "#respectiva frecuencia\n",
    "top_competencias = lista_competencias[0:10]\n",
    "labels = zip(*top_competencias)[0]\n",
    "labels = [unicode(label, \"utf-8\") for label in labels]\n",
    "frecuencias = zip(*top_competencias)[1]\n",
    "frecuencias = [frecuencia for frecuencia in frecuencias]\n",
    "x_pos = np.arange(len(frecuencias))\n",
    "plt.barh(x_pos, frecuencias,align='center', height=0.1)\n",
    "plt.yticks(x_pos, labels)\n",
    "plt.title('Cantidad de perfiles que declaran una competencia')\n",
    "plt.xlabel(u'Número de perfiles')\n",
    "plt.ylabel('Competencia(id)')\n",
    "plt.tight_layout()\n",
    "plt.show()"
   ]
  },
  {
   "cell_type": "markdown",
   "metadata": {},
   "source": [
    "**3.4 Predicción de la competencia *Microsoft Office***"
   ]
  },
  {
   "cell_type": "markdown",
   "metadata": {},
   "source": [
    "**3.4.1 Ajuste de conjuntos de entrenamiento y prueba**"
   ]
  },
  {
   "cell_type": "markdown",
   "metadata": {},
   "source": [
    "Se desea predecir la existencia de la competencia *Microsoft Office* en un perfil determinado, en base a las competencias restantes que el usuario declaró. Se ha seleccionado dicha competencia debido a su alta frecuencia de aparición en los perfiles. Para el posterior entrenamiento de clasificadores, se ajustan los sets de entrenamiento y de prueba construídos previamente para así poder abordar este problema. Notar que para evaluar el rendimiento de cada clasificador, se usarán las funciones previamente creadas para abordar el problema 2. Además, se usa la siguiente notación:\n",
    "\n",
    "clase 1: Implica que la competencia *Microsoft Office* efectivamente es declarada un un perfil.  \n",
    "clase 0: Caso contrario.\n",
    "\n",
    "Se procede de la siguiente manera:"
   ]
  },
  {
   "cell_type": "code",
   "execution_count": 7,
   "metadata": {
    "collapsed": false
   },
   "outputs": [],
   "source": [
    "#Para el set de entrenamiento, se construyen las matrices X_tr e y_tr a partir de Z_tr\n",
    "#Recordar que Microsoft Office corresponde a la competencia numero 29\n",
    "y_tr = column_or_1d(Z_tr[:, 29].toarray())\n",
    "X_tr = csr_matrix(np.delete(Z_tr.toarray(), 29, 1))\n",
    "\n",
    "#Se procede de forma analoga con el conjunto de entrenamiento, construyendo X_ts e y_ts\n",
    "#a partir de Z_ts\n",
    "y_ts = column_or_1d(Z_ts[:, 29].toarray())\n",
    "X_ts = csr_matrix(np.delete(Z_ts.toarray(), 29, 1))"
   ]
  },
  {
   "cell_type": "markdown",
   "metadata": {},
   "source": [
    "**3.4.2 Entrenamiento/ajuste de clasificador Bayesiano Ingenuo Binario**"
   ]
  },
  {
   "cell_type": "markdown",
   "metadata": {},
   "source": [
    "En base a los conjuntos de datos elaborados en la sección anterior, se procede a entrenar/ajustar un clasificador Bayesiano Binario. Posterior a ello, se aplica el modelo generado sobre los datos de entrenamiento y de prueba con el fin de determinar su precisión sobre estos conjuntos."
   ]
  },
  {
   "cell_type": "code",
   "execution_count": 8,
   "metadata": {
    "collapsed": false
   },
   "outputs": [
    {
     "name": "stdout",
     "output_type": "stream",
     "text": [
      "Precisión datos de entrenamiento BernoulliNB: 0.849599\n",
      "Precisión datos de prueba BernoulliNB: 0.794360\n",
      "Análisis detallado de resultados sobre set de prueba:\n",
      "             precision    recall  f1-score   support\n",
      "\n",
      "    clase 1       0.81      0.87      0.84      1914\n",
      "    clase 0       0.77      0.68      0.72      1242\n",
      "\n",
      "avg / total       0.79      0.79      0.79      3156\n",
      "\n"
     ]
    },
    {
     "data": {
      "text/plain": [
       "BernoulliNB(alpha=1.0, binarize=0.0, class_prior=None, fit_prior=True)"
      ]
     },
     "execution_count": 8,
     "metadata": {},
     "output_type": "execute_result"
    }
   ],
   "source": [
    "NAIVE_BAYES(X_tr, y_tr, X_ts, y_ts)"
   ]
  },
  {
   "cell_type": "markdown",
   "metadata": {},
   "source": [
    "**3.4.3 Entrenamiento/ajuste de clasificador Bayesiano Ingenuo Multinomial**"
   ]
  },
  {
   "cell_type": "markdown",
   "metadata": {},
   "source": [
    "Se ejecuta el mismo procedimiento de la sección previa, pero considerando un clasificador Bayesiano Ingenuo Multinomial."
   ]
  },
  {
   "cell_type": "code",
   "execution_count": 9,
   "metadata": {
    "collapsed": false
   },
   "outputs": [
    {
     "name": "stdout",
     "output_type": "stream",
     "text": [
      "Precisión datos de entrenamiento MULTINOMIAL: 0.847909\n",
      "Precisión datos de prueba MULTINOMIAL: 0.786122\n",
      "Análisis detallado de resultados sobre set de prueba:\n",
      "             precision    recall  f1-score   support\n",
      "\n",
      "    clase 1       0.83      0.81      0.82      1914\n",
      "    clase 0       0.72      0.75      0.73      1242\n",
      "\n",
      "avg / total       0.79      0.79      0.79      3156\n",
      "\n"
     ]
    },
    {
     "data": {
      "text/plain": [
       "MultinomialNB(alpha=1.0, class_prior=None, fit_prior=True)"
      ]
     },
     "execution_count": 9,
     "metadata": {},
     "output_type": "execute_result"
    }
   ],
   "source": [
    "MULTINOMIAL(X_tr, y_tr, X_ts, y_ts)"
   ]
  },
  {
   "cell_type": "markdown",
   "metadata": {
    "collapsed": true
   },
   "source": [
    "**3.4.4 Entrenamiento/ajuste de modelo de Regresión Logística Regularizado** "
   ]
  },
  {
   "cell_type": "markdown",
   "metadata": {},
   "source": [
    "Se procede de manera análoga a las dos secciones anteriores, entrenando un clasificador de regresión logística bajo el efecto de variados parámeteros de regularización C."
   ]
  },
  {
   "cell_type": "code",
   "execution_count": null,
   "metadata": {
    "collapsed": false,
    "scrolled": true
   },
   "outputs": [
    {
     "name": "stdout",
     "output_type": "stream",
     "text": [
      "Usando C= 0.010000\n",
      "Precisión datos de entrenamiento LOGISTIC: 0.843684\n",
      "Precisión datos de prueba LOGISTIC: 0.829848\n",
      "Análisis detallado de resultados sobre set de prueba:\n",
      "             precision    recall  f1-score   support\n",
      "\n",
      "    clase 1       0.83      0.91      0.87      1914\n",
      "    clase 0       0.84      0.70      0.76      1242\n",
      "\n",
      "avg / total       0.83      0.83      0.83      3156\n",
      "\n",
      "Usando C= 0.100000\n",
      "Precisión datos de entrenamiento LOGISTIC: 0.880228\n",
      "Precisión datos de prueba LOGISTIC: 0.826679\n",
      "Análisis detallado de resultados sobre set de prueba:\n",
      "             precision    recall  f1-score   support\n",
      "\n",
      "    clase 1       0.83      0.90      0.86      1914\n",
      "    clase 0       0.82      0.72      0.77      1242\n",
      "\n",
      "avg / total       0.83      0.83      0.82      3156\n",
      "\n",
      "Usando C= 10.000000\n",
      "Precisión datos de entrenamiento LOGISTIC: 0.984157\n",
      "Precisión datos de prueba LOGISTIC: 0.791191\n",
      "Análisis detallado de resultados sobre set de prueba:\n",
      "             precision    recall  f1-score   support\n",
      "\n",
      "    clase 1       0.81      0.85      0.83      1914\n",
      "    clase 0       0.75      0.70      0.73      1242\n",
      "\n",
      "avg / total       0.79      0.79      0.79      3156\n",
      "\n",
      "Usando C= 100.000000\n",
      "Precisión datos de entrenamiento LOGISTIC: 0.990706\n",
      "Precisión datos de prueba LOGISTIC: 0.772497\n",
      "Análisis detallado de resultados sobre set de prueba:\n",
      "             precision    recall  f1-score   support\n",
      "\n",
      "    clase 1       0.80      0.83      0.82      1914\n",
      "    clase 0       0.72      0.69      0.70      1242\n",
      "\n",
      "avg / total       0.77      0.77      0.77      3156\n",
      "\n",
      "Usando C= 1000.000000\n",
      "Precisión datos de entrenamiento LOGISTIC: 0.993663\n",
      "Precisión datos de prueba LOGISTIC: 0.744297\n",
      "Análisis detallado de resultados sobre set de prueba:\n",
      "             precision    recall  f1-score   support\n",
      "\n",
      "    clase 1       0.79      0.79      0.79      1914\n",
      "    clase 0       0.68      0.67      0.67      1242\n",
      "\n",
      "avg / total       0.74      0.74      0.74      3156\n",
      "\n"
     ]
    }
   ],
   "source": [
    "LOGIT(X_tr,y_tr,X_ts,y_ts, 0)"
   ]
  },
  {
   "cell_type": "markdown",
   "metadata": {},
   "source": [
    "**3.4.5 Entrenamiento/ajuste de una SVM Lineal**"
   ]
  },
  {
   "cell_type": "markdown",
   "metadata": {},
   "source": [
    "Se entrena una SVM lineal bajo el efecto de variados parámetros de regularización C."
   ]
  },
  {
   "cell_type": "code",
   "execution_count": null,
   "metadata": {
    "collapsed": false,
    "scrolled": true
   },
   "outputs": [
    {
     "name": "stdout",
     "output_type": "stream",
     "text": [
      "El valor de C que se esta probando: 0.010000\n",
      "Precisión datos de entrenamiento SVM: 0.838192\n",
      "Precisión datos de prueba SVM: 0.823194\n",
      "Análisis detallado de resultados sobre set de prueba:\n",
      "             precision    recall  f1-score   support\n",
      "\n",
      "    clase 1       0.81      0.93      0.86      1914\n",
      "    clase 0       0.86      0.66      0.75      1242\n",
      "\n",
      "avg / total       0.83      0.82      0.82      3156\n",
      "\n",
      "El valor de C que se esta probando: 0.100000\n",
      "Precisión datos de entrenamiento SVM: 0.911914\n",
      "Precisión datos de prueba SVM: 0.814005\n",
      "Análisis detallado de resultados sobre set de prueba:\n",
      "             precision    recall  f1-score   support\n",
      "\n",
      "    clase 1       0.82      0.89      0.85      1914\n",
      "    clase 0       0.80      0.70      0.75      1242\n",
      "\n",
      "avg / total       0.81      0.81      0.81      3156\n",
      "\n",
      "El valor de C que se esta probando: 10.000000\n"
     ]
    }
   ],
   "source": [
    "SVM(X_tr,y_tr,X_ts,y_ts, 0)"
   ]
  },
  {
   "cell_type": "markdown",
   "metadata": {},
   "source": [
    "**3.4.6 Entrenamiento/ajuste de **"
   ]
  },
  {
   "cell_type": "markdown",
   "metadata": {
    "collapsed": true
   },
   "source": [
    "**3.4.7 Análisis de resultados**"
   ]
  },
  {
   "cell_type": "markdown",
   "metadata": {
    "collapsed": true
   },
   "source": [
    "blah blah"
   ]
  },
  {
   "cell_type": "code",
   "execution_count": null,
   "metadata": {
    "collapsed": true
   },
   "outputs": [],
   "source": []
  }
 ],
 "metadata": {
  "kernelspec": {
   "display_name": "Python 2",
   "language": "python",
   "name": "python2"
  },
  "language_info": {
   "codemirror_mode": {
    "name": "ipython",
    "version": 2
   },
   "file_extension": ".py",
   "mimetype": "text/x-python",
   "name": "python",
   "nbconvert_exporter": "python",
   "pygments_lexer": "ipython2",
   "version": "2.7.10"
  }
 },
 "nbformat": 4,
 "nbformat_minor": 1
}
